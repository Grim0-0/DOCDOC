{
  "cells": [
    {
      "cell_type": "markdown",
      "metadata": {
        "id": "mlCWlQ2pTc88"
      },
      "source": [
        "<a href=\"https://colab.research.google.com/github/healthonrails/annolid/blob/main/docs/tutorials/Annolid_on_Detectron2_Tutorial.ipynb\" target=\"_blank\"><img src=\"https://colab.research.google.com/assets/colab-badge.svg\" alt=\"Open In Colab\"/></a>"
      ]
    },
    {
      "cell_type": "code",
      "execution_count": 1,
      "metadata": {
        "colab": {
          "base_uri": "https://localhost:8080/"
        },
        "id": "NvVl8X-sclMP",
        "outputId": "70fc820b-ed57-457a-e3a3-3c0b9faad150"
      },
      "outputs": [
        {
          "name": "stdout",
          "output_type": "stream",
          "text": [
            "nvcc: NVIDIA (R) Cuda compiler driver\n",
            "Copyright (c) 2005-2020 NVIDIA Corporation\n",
            "Built on Mon_Nov_30_19:15:10_Pacific_Standard_Time_2020\n",
            "Cuda compilation tools, release 11.2, V11.2.67\n",
            "Build cuda_11.2.r11.2/compiler.29373293_0\n",
            "torch:  2.3 ; cuda:  cu121\n",
            "detectron2: 0.6\n"
          ]
        }
      ],
      "source": [
        "import torch, detectron2\n",
        "!nvcc --version\n",
        "TORCH_VERSION = \".\".join(torch.__version__.split(\".\")[:2])\n",
        "CUDA_VERSION = torch.__version__.split(\"+\")[-1]\n",
        "print(\"torch: \", TORCH_VERSION, \"; cuda: \", CUDA_VERSION)\n",
        "print(\"detectron2:\", detectron2.__version__)"
      ]
    },
    {
      "cell_type": "code",
      "execution_count": 2,
      "metadata": {
        "id": "aGjGWQyCUZLf"
      },
      "outputs": [
        {
          "name": "stderr",
          "output_type": "stream",
          "text": [
            "d:\\PythonEnv\\tf\\lib\\site-packages\\transformers\\utils\\generic.py:441: UserWarning: torch.utils._pytree._register_pytree_node is deprecated. Please use torch.utils._pytree.register_pytree_node instead.\n",
            "  _torch_pytree._register_pytree_node(\n",
            "d:\\PythonEnv\\tf\\lib\\site-packages\\transformers\\utils\\generic.py:309: UserWarning: torch.utils._pytree._register_pytree_node is deprecated. Please use torch.utils._pytree.register_pytree_node instead.\n",
            "  _torch_pytree._register_pytree_node(\n"
          ]
        }
      ],
      "source": [
        "import os\n",
        "\n",
        "import numpy as np\n",
        "import pandas as pd\n",
        "from tqdm.auto import tqdm\n",
        "from sklearn.utils import shuffle\n",
        "from sklearn.model_selection import train_test_split\n",
        "\n",
        "import pytesseract\n",
        "from PIL import Image, ImageDraw, ImageFont\n",
        "\n",
        "import torch\n",
        "from datasets import Dataset, Features, Sequence, ClassLabel, Value, Array2D, Array3D\n",
        "from transformers import LayoutLMv2FeatureExtractor, LayoutLMv2Tokenizer, LayoutLMv2Processor, LayoutLMv2ForSequenceClassification\n",
        "from torch.optim import AdamW"
      ]
    },
    {
      "cell_type": "code",
      "execution_count": 4,
      "metadata": {
        "colab": {
          "base_uri": "https://localhost:8080/"
        },
        "id": "9ldPwxH3UZcK",
        "outputId": "aff0da3d-eaf3-465e-c6f7-e609a63adc8e"
      },
      "outputs": [
        {
          "name": "stdout",
          "output_type": "stream",
          "text": [
            "{'advertisement': 0, 'budget': 1, 'email': 2, 'file_folder': 3, 'form': 4, 'handwritten': 5, 'invoice': 6, 'letter': 7, 'memo': 8, 'news_article': 9, 'presentation': 10, 'questionnaire': 11, 'resume': 12, 'scientific_publication': 13, 'scientific_report': 14, 'specification': 15}\n"
          ]
        }
      ],
      "source": [
        "dataset_path = \"C:\\\\Users\\\\Kounen Fathima\\\\Downloads\\\\test\"\n",
        "subdirs = [os.path.basename(subdir) for subdir in os.listdir(dataset_path) if os.path.isdir(os.path.join(dataset_path, subdir))]\n",
        "subdirs.sort()  # Sort subdirectory names alphabetically\n",
        "\n",
        "labels = subdirs\n",
        "idx2label = {v: k for v, k in enumerate(labels)}\n",
        "label2idx = {k: v for v, k in enumerate(labels)}\n",
        "\n",
        "# You can now use label2idx which contains actual labels in alphabetical order (assuming subdir names reflect labels)\n",
        "\n",
        "print(label2idx)"
      ]
    },
    {
      "cell_type": "code",
      "execution_count": 5,
      "metadata": {
        "id": "uYhl1spiUZez"
      },
      "outputs": [],
      "source": [
        "data=pd.DataFrame()\n",
        "i=0\n",
        "for label in os.listdir(dataset_path):\n",
        "    count=0\n",
        "    for filename in os.listdir(dataset_path+'/'+label):\n",
        "\n",
        "        if '.ipynb' not in filename and count<200:\n",
        "            data.at[i,'image_path']=dataset_path+'/'+label+'/'+filename\n",
        "            data.at[i,'label']=label\n",
        "            i=i+1\n",
        "            count=count+1\n",
        "\n",
        "\n",
        "data = shuffle(data)"
      ]
    },
    {
      "cell_type": "code",
      "execution_count": 6,
      "metadata": {
        "colab": {
          "base_uri": "https://localhost:8080/",
          "height": 206
        },
        "id": "kGc7uonqUZjq",
        "outputId": "6297315a-d1d9-480e-e804-b87856d0329f"
      },
      "outputs": [
        {
          "data": {
            "text/html": [
              "<div>\n",
              "<style scoped>\n",
              "    .dataframe tbody tr th:only-of-type {\n",
              "        vertical-align: middle;\n",
              "    }\n",
              "\n",
              "    .dataframe tbody tr th {\n",
              "        vertical-align: top;\n",
              "    }\n",
              "\n",
              "    .dataframe thead th {\n",
              "        text-align: right;\n",
              "    }\n",
              "</style>\n",
              "<table border=\"1\" class=\"dataframe\">\n",
              "  <thead>\n",
              "    <tr style=\"text-align: right;\">\n",
              "      <th></th>\n",
              "      <th>image_path</th>\n",
              "      <th>label</th>\n",
              "    </tr>\n",
              "  </thead>\n",
              "  <tbody>\n",
              "    <tr>\n",
              "      <th>2253</th>\n",
              "      <td>C:\\Users\\Kounen Fathima\\Downloads\\test/questio...</td>\n",
              "      <td>questionnaire</td>\n",
              "    </tr>\n",
              "    <tr>\n",
              "      <th>2404</th>\n",
              "      <td>C:\\Users\\Kounen Fathima\\Downloads\\test/resume/...</td>\n",
              "      <td>resume</td>\n",
              "    </tr>\n",
              "    <tr>\n",
              "      <th>1293</th>\n",
              "      <td>C:\\Users\\Kounen Fathima\\Downloads\\test/invoice...</td>\n",
              "      <td>invoice</td>\n",
              "    </tr>\n",
              "    <tr>\n",
              "      <th>1562</th>\n",
              "      <td>C:\\Users\\Kounen Fathima\\Downloads\\test/letter/...</td>\n",
              "      <td>letter</td>\n",
              "    </tr>\n",
              "    <tr>\n",
              "      <th>2530</th>\n",
              "      <td>C:\\Users\\Kounen Fathima\\Downloads\\test/resume/...</td>\n",
              "      <td>resume</td>\n",
              "    </tr>\n",
              "  </tbody>\n",
              "</table>\n",
              "</div>"
            ],
            "text/plain": [
              "                                             image_path          label\n",
              "2253  C:\\Users\\Kounen Fathima\\Downloads\\test/questio...  questionnaire\n",
              "2404  C:\\Users\\Kounen Fathima\\Downloads\\test/resume/...         resume\n",
              "1293  C:\\Users\\Kounen Fathima\\Downloads\\test/invoice...        invoice\n",
              "1562  C:\\Users\\Kounen Fathima\\Downloads\\test/letter/...         letter\n",
              "2530  C:\\Users\\Kounen Fathima\\Downloads\\test/resume/...         resume"
            ]
          },
          "execution_count": 6,
          "metadata": {},
          "output_type": "execute_result"
        }
      ],
      "source": [
        "data.head()"
      ]
    },
    {
      "cell_type": "code",
      "execution_count": 7,
      "metadata": {
        "colab": {
          "base_uri": "https://localhost:8080/"
        },
        "id": "PEGJ88uBUZos",
        "outputId": "419a3da0-a123-413a-980e-f6347b7dbdeb"
      },
      "outputs": [
        {
          "data": {
            "text/plain": [
              "3200"
            ]
          },
          "execution_count": 7,
          "metadata": {},
          "output_type": "execute_result"
        }
      ],
      "source": [
        "len(data)"
      ]
    },
    {
      "cell_type": "code",
      "execution_count": 8,
      "metadata": {
        "colab": {
          "base_uri": "https://localhost:8080/"
        },
        "id": "UNXFK-YTUZrv",
        "outputId": "c8f9611e-630d-488b-c019-1d7a0c48864b"
      },
      "outputs": [
        {
          "data": {
            "text/plain": [
              "Index(['image_path', 'label'], dtype='object')"
            ]
          },
          "execution_count": 8,
          "metadata": {},
          "output_type": "execute_result"
        }
      ],
      "source": [
        "data.columns"
      ]
    },
    {
      "cell_type": "code",
      "execution_count": 9,
      "metadata": {
        "id": "WUG8B-7GUZun"
      },
      "outputs": [],
      "source": [
        "X=data[['image_path']]\n",
        "y=data[['label']]"
      ]
    },
    {
      "cell_type": "code",
      "execution_count": 10,
      "metadata": {
        "colab": {
          "base_uri": "https://localhost:8080/",
          "height": 423
        },
        "id": "yMqJS7hOUZxh",
        "outputId": "3ef309ca-14d2-4b25-caa8-063967882278"
      },
      "outputs": [
        {
          "data": {
            "text/html": [
              "<div>\n",
              "<style scoped>\n",
              "    .dataframe tbody tr th:only-of-type {\n",
              "        vertical-align: middle;\n",
              "    }\n",
              "\n",
              "    .dataframe tbody tr th {\n",
              "        vertical-align: top;\n",
              "    }\n",
              "\n",
              "    .dataframe thead th {\n",
              "        text-align: right;\n",
              "    }\n",
              "</style>\n",
              "<table border=\"1\" class=\"dataframe\">\n",
              "  <thead>\n",
              "    <tr style=\"text-align: right;\">\n",
              "      <th></th>\n",
              "      <th>image_path</th>\n",
              "    </tr>\n",
              "  </thead>\n",
              "  <tbody>\n",
              "    <tr>\n",
              "      <th>2253</th>\n",
              "      <td>C:\\Users\\Kounen Fathima\\Downloads\\test/questio...</td>\n",
              "    </tr>\n",
              "    <tr>\n",
              "      <th>2404</th>\n",
              "      <td>C:\\Users\\Kounen Fathima\\Downloads\\test/resume/...</td>\n",
              "    </tr>\n",
              "    <tr>\n",
              "      <th>1293</th>\n",
              "      <td>C:\\Users\\Kounen Fathima\\Downloads\\test/invoice...</td>\n",
              "    </tr>\n",
              "    <tr>\n",
              "      <th>1562</th>\n",
              "      <td>C:\\Users\\Kounen Fathima\\Downloads\\test/letter/...</td>\n",
              "    </tr>\n",
              "    <tr>\n",
              "      <th>2530</th>\n",
              "      <td>C:\\Users\\Kounen Fathima\\Downloads\\test/resume/...</td>\n",
              "    </tr>\n",
              "    <tr>\n",
              "      <th>...</th>\n",
              "      <td>...</td>\n",
              "    </tr>\n",
              "    <tr>\n",
              "      <th>638</th>\n",
              "      <td>C:\\Users\\Kounen Fathima\\Downloads\\test/file_fo...</td>\n",
              "    </tr>\n",
              "    <tr>\n",
              "      <th>1688</th>\n",
              "      <td>C:\\Users\\Kounen Fathima\\Downloads\\test/memo/00...</td>\n",
              "    </tr>\n",
              "    <tr>\n",
              "      <th>2034</th>\n",
              "      <td>C:\\Users\\Kounen Fathima\\Downloads\\test/present...</td>\n",
              "    </tr>\n",
              "    <tr>\n",
              "      <th>2611</th>\n",
              "      <td>C:\\Users\\Kounen Fathima\\Downloads\\test/scienti...</td>\n",
              "    </tr>\n",
              "    <tr>\n",
              "      <th>259</th>\n",
              "      <td>C:\\Users\\Kounen Fathima\\Downloads\\test/budget/...</td>\n",
              "    </tr>\n",
              "  </tbody>\n",
              "</table>\n",
              "<p>3200 rows × 1 columns</p>\n",
              "</div>"
            ],
            "text/plain": [
              "                                             image_path\n",
              "2253  C:\\Users\\Kounen Fathima\\Downloads\\test/questio...\n",
              "2404  C:\\Users\\Kounen Fathima\\Downloads\\test/resume/...\n",
              "1293  C:\\Users\\Kounen Fathima\\Downloads\\test/invoice...\n",
              "1562  C:\\Users\\Kounen Fathima\\Downloads\\test/letter/...\n",
              "2530  C:\\Users\\Kounen Fathima\\Downloads\\test/resume/...\n",
              "...                                                 ...\n",
              "638   C:\\Users\\Kounen Fathima\\Downloads\\test/file_fo...\n",
              "1688  C:\\Users\\Kounen Fathima\\Downloads\\test/memo/00...\n",
              "2034  C:\\Users\\Kounen Fathima\\Downloads\\test/present...\n",
              "2611  C:\\Users\\Kounen Fathima\\Downloads\\test/scienti...\n",
              "259   C:\\Users\\Kounen Fathima\\Downloads\\test/budget/...\n",
              "\n",
              "[3200 rows x 1 columns]"
            ]
          },
          "execution_count": 10,
          "metadata": {},
          "output_type": "execute_result"
        }
      ],
      "source": [
        "X"
      ]
    },
    {
      "cell_type": "code",
      "execution_count": 11,
      "metadata": {
        "colab": {
          "base_uri": "https://localhost:8080/",
          "height": 423
        },
        "id": "tBjjXL-BUZ0u",
        "outputId": "22e8562e-e565-4130-c1c5-4c5023eb2991"
      },
      "outputs": [
        {
          "data": {
            "text/html": [
              "<div>\n",
              "<style scoped>\n",
              "    .dataframe tbody tr th:only-of-type {\n",
              "        vertical-align: middle;\n",
              "    }\n",
              "\n",
              "    .dataframe tbody tr th {\n",
              "        vertical-align: top;\n",
              "    }\n",
              "\n",
              "    .dataframe thead th {\n",
              "        text-align: right;\n",
              "    }\n",
              "</style>\n",
              "<table border=\"1\" class=\"dataframe\">\n",
              "  <thead>\n",
              "    <tr style=\"text-align: right;\">\n",
              "      <th></th>\n",
              "      <th>image_path</th>\n",
              "    </tr>\n",
              "  </thead>\n",
              "  <tbody>\n",
              "    <tr>\n",
              "      <th>1956</th>\n",
              "      <td>C:\\Users\\Kounen Fathima\\Downloads\\test/news_ar...</td>\n",
              "    </tr>\n",
              "    <tr>\n",
              "      <th>1615</th>\n",
              "      <td>C:\\Users\\Kounen Fathima\\Downloads\\test/memo/00...</td>\n",
              "    </tr>\n",
              "    <tr>\n",
              "      <th>1632</th>\n",
              "      <td>C:\\Users\\Kounen Fathima\\Downloads\\test/memo/00...</td>\n",
              "    </tr>\n",
              "    <tr>\n",
              "      <th>2788</th>\n",
              "      <td>C:\\Users\\Kounen Fathima\\Downloads\\test/scienti...</td>\n",
              "    </tr>\n",
              "    <tr>\n",
              "      <th>2365</th>\n",
              "      <td>C:\\Users\\Kounen Fathima\\Downloads\\test/questio...</td>\n",
              "    </tr>\n",
              "    <tr>\n",
              "      <th>...</th>\n",
              "      <td>...</td>\n",
              "    </tr>\n",
              "    <tr>\n",
              "      <th>1852</th>\n",
              "      <td>C:\\Users\\Kounen Fathima\\Downloads\\test/news_ar...</td>\n",
              "    </tr>\n",
              "    <tr>\n",
              "      <th>2754</th>\n",
              "      <td>C:\\Users\\Kounen Fathima\\Downloads\\test/scienti...</td>\n",
              "    </tr>\n",
              "    <tr>\n",
              "      <th>814</th>\n",
              "      <td>C:\\Users\\Kounen Fathima\\Downloads\\test/form/00...</td>\n",
              "    </tr>\n",
              "    <tr>\n",
              "      <th>2471</th>\n",
              "      <td>C:\\Users\\Kounen Fathima\\Downloads\\test/resume/...</td>\n",
              "    </tr>\n",
              "    <tr>\n",
              "      <th>1872</th>\n",
              "      <td>C:\\Users\\Kounen Fathima\\Downloads\\test/news_ar...</td>\n",
              "    </tr>\n",
              "  </tbody>\n",
              "</table>\n",
              "<p>1920 rows × 1 columns</p>\n",
              "</div>"
            ],
            "text/plain": [
              "                                             image_path\n",
              "1956  C:\\Users\\Kounen Fathima\\Downloads\\test/news_ar...\n",
              "1615  C:\\Users\\Kounen Fathima\\Downloads\\test/memo/00...\n",
              "1632  C:\\Users\\Kounen Fathima\\Downloads\\test/memo/00...\n",
              "2788  C:\\Users\\Kounen Fathima\\Downloads\\test/scienti...\n",
              "2365  C:\\Users\\Kounen Fathima\\Downloads\\test/questio...\n",
              "...                                                 ...\n",
              "1852  C:\\Users\\Kounen Fathima\\Downloads\\test/news_ar...\n",
              "2754  C:\\Users\\Kounen Fathima\\Downloads\\test/scienti...\n",
              "814   C:\\Users\\Kounen Fathima\\Downloads\\test/form/00...\n",
              "2471  C:\\Users\\Kounen Fathima\\Downloads\\test/resume/...\n",
              "1872  C:\\Users\\Kounen Fathima\\Downloads\\test/news_ar...\n",
              "\n",
              "[1920 rows x 1 columns]"
            ]
          },
          "execution_count": 11,
          "metadata": {},
          "output_type": "execute_result"
        }
      ],
      "source": [
        "X_train, X_val, y_train, y_val = train_test_split(X, y, test_size=0.4, stratify=y)\n",
        "\n",
        "X_valid,X_test,y_valid,y_test = train_test_split(X_val, y_val, test_size=0.5, stratify=y_val)\n",
        "\n",
        "X_train"
      ]
    },
    {
      "cell_type": "code",
      "execution_count": 13,
      "metadata": {
        "id": "zEs1cSFoUZ3_"
      },
      "outputs": [],
      "source": [
        "X_train_values = X_train.select_dtypes(include=['number']).values\n",
        "X_train_tensor = torch.FloatTensor(X_train_values).cuda()\n",
        "\n",
        "X_test_values = X_test.select_dtypes(include=['number']).values\n",
        "X_test_tensor = torch.FloatTensor(X_test_values).cuda()\n",
        "\n",
        "y_train_values = y_train.select_dtypes(include=['number']).values\n",
        "y_train_tensor = torch.FloatTensor(y_train_values).cuda()\n",
        "\n",
        "y_test_values = y_test.select_dtypes(include=['number']).values\n",
        "y_test_tensor = torch.FloatTensor(y_test_values).cuda()"
      ]
    },
    {
      "cell_type": "code",
      "execution_count": 14,
      "metadata": {
        "colab": {
          "base_uri": "https://localhost:8080/"
        },
        "id": "oB845h3VUZ62",
        "outputId": "f39cb795-cbbe-43e2-9952-c2d74c156edf"
      },
      "outputs": [
        {
          "name": "stdout",
          "output_type": "stream",
          "text": [
            "Tensor moved to GPU\n",
            "Device: cuda:0\n"
          ]
        }
      ],
      "source": [
        "if torch.cuda.is_available():\n",
        "    X_train_tensor = X_train_tensor.cuda()\n",
        "    print(\"Tensor moved to GPU\")\n",
        "else:\n",
        "    print(\"No GPU available, tensor remains on CPU\")\n",
        "\n",
        "# Print the device\n",
        "print(\"Device:\", X_train_tensor.device)"
      ]
    },
    {
      "cell_type": "code",
      "execution_count": 15,
      "metadata": {
        "id": "aPuqVDdBUZ85"
      },
      "outputs": [],
      "source": [
        "train_data=pd.concat([X_train, y_train], axis=1)\n",
        "valid_data=pd.concat([X_valid, y_valid], axis=1)\n",
        "test_data=pd.concat([X_test, y_test], axis=1)"
      ]
    },
    {
      "cell_type": "code",
      "execution_count": 16,
      "metadata": {
        "colab": {
          "base_uri": "https://localhost:8080/"
        },
        "id": "cb4DODgodVcL",
        "outputId": "f7f5dba5-f3b6-4f5b-ec6c-9af00df6df42"
      },
      "outputs": [
        {
          "name": "stdout",
          "output_type": "stream",
          "text": [
            "1920\n",
            "640\n",
            "640\n"
          ]
        }
      ],
      "source": [
        "print(len(train_data))\n",
        "print(len(valid_data))\n",
        "print(len(test_data))"
      ]
    },
    {
      "cell_type": "code",
      "execution_count": 17,
      "metadata": {
        "id": "nbrNEttqdVeq"
      },
      "outputs": [],
      "source": [
        "train_size=len(train_data)\n",
        "validation_size=len(valid_data)\n",
        "test_size=len(test_data)"
      ]
    },
    {
      "cell_type": "code",
      "execution_count": 18,
      "metadata": {
        "colab": {
          "base_uri": "https://localhost:8080/"
        },
        "id": "uh_yWTcGdVg-",
        "outputId": "a87647ed-1465-4add-dbc5-b782b52b0ea1"
      },
      "outputs": [
        {
          "data": {
            "text/plain": [
              "device(type='cuda')"
            ]
          },
          "execution_count": 18,
          "metadata": {},
          "output_type": "execute_result"
        }
      ],
      "source": [
        "device = torch.device(\"cuda\" if torch.cuda.is_available() else \"cpu\")\n",
        "device"
      ]
    },
    {
      "cell_type": "code",
      "execution_count": 38,
      "metadata": {
        "id": "0-WO2D6hdVjW"
      },
      "outputs": [],
      "source": [
        "from transformers import LayoutLMv2Tokenizer, LayoutLMv2Processor, LayoutLMv2ImageProcessor\n",
        "from datasets import Features, ClassLabel, Value, Sequence, Array2D, Array3D\n",
        "from PIL import Image\n",
        "import os\n",
        "\n",
        "# Load the tokenizer and image processor\n",
        "tokenizer = LayoutLMv2Tokenizer.from_pretrained(\"microsoft/layoutlmv2-base-uncased\")\n",
        "image_processor = LayoutLMv2ImageProcessor.from_pretrained(\"microsoft/layoutlmv2-base-uncased\")\n",
        "\n",
        "# Use the new image processor in the LayoutLMv2Processor\n",
        "processor = LayoutLMv2Processor(tokenizer=tokenizer, feature_extractor=image_processor)  # Note the parameter name\n",
        "\n",
        "def encode_training_example(examples):\n",
        "    images = [Image.open(path).convert(\"RGB\") for path in examples['image_path']]\n",
        "    encoded_inputs = processor(images, padding=\"max_length\", truncation=True)\n",
        "    encoded_inputs[\"labels\"] = [label2idx[label] for label in examples[\"label\"]]\n",
        "    return encoded_inputs\n",
        "\n",
        "# Define features for the dataset\n",
        "training_features = Features({\n",
        "    'image': Array3D(dtype=\"int64\", shape=(3, 224, 224)),\n",
        "    'input_ids': Sequence(feature=Value(dtype='int64')),\n",
        "    'attention_mask': Sequence(Value(dtype='int64')),\n",
        "    'token_type_ids': Sequence(Value(dtype='int64')),\n",
        "    'bbox': Array2D(dtype=\"int64\", shape=(512, 4)),\n",
        "    'labels': ClassLabel(num_classes=len(label2idx), names=list(label2idx.keys())),\n",
        "})\n"
      ]
    },
    {
      "cell_type": "code",
      "execution_count": 39,
      "metadata": {
        "id": "t8z_9xSedVlo"
      },
      "outputs": [],
      "source": [
        "def training_dataloader_from_df(data):\n",
        "    dataset = Dataset.from_pandas(data)\n",
        "\n",
        "    encoded_dataset = dataset.map(\n",
        "        encode_training_example, remove_columns=dataset.column_names, features=training_features,\n",
        "        batched=True, batch_size=2\n",
        "    )\n",
        "    encoded_dataset.set_format(type='torch', device=device)\n",
        "    dataloader = torch.utils.data.DataLoader(encoded_dataset, batch_size=4, shuffle=True)\n",
        "    batch = next(iter(dataloader))\n",
        "    return dataloader"
      ]
    },
    {
      "cell_type": "code",
      "execution_count": 40,
      "metadata": {},
      "outputs": [
        {
          "name": "stdout",
          "output_type": "stream",
          "text": [
            "{'advertisement': 0, 'budget': 1, 'email': 2, 'file_folder': 3, 'form': 4, 'handwritten': 5, 'invoice': 6, 'letter': 7, 'memo': 8, 'news_article': 9, 'presentation': 10, 'questionnaire': 11, 'resume': 12, 'scientific_publication': 13, 'scientific_report': 14, 'specification': 15}\n"
          ]
        }
      ],
      "source": [
        "print(label2idx)"
      ]
    },
    {
      "cell_type": "code",
      "execution_count": 41,
      "metadata": {
        "colab": {
          "base_uri": "https://localhost:8080/",
          "height": 416,
          "referenced_widgets": [
            "e9a780d22c5346fdbd1a3a99729e7baa",
            "59275a4acaa540d9b8254638d2a9ca99",
            "0523fcb0165e477cbe44d6ca4d4d2b36",
            "d6da777d357241adb363febea05c9fd7",
            "5fbf683f1cb0445787a8f30f334f1423",
            "c14a752987ab40b49d96c9f932335c22",
            "d4ad6f9425044cce920518c234cbc400",
            "27c8d9adeeed4f37a6c5c68688c47fd0",
            "f68458f772254fba8cb19259b5721e6c",
            "a4b9a017214b4c31b07e1e2598410274",
            "ac82e69955b94a6f95d276a89f7c02b4",
            "7426f7ae240a4f15be5a0088b803f421",
            "e5656550cfef49cfb222241b426e67b9",
            "8ac6f58252954650bf2c40b7abd255a5",
            "5f09df28d3b94985ba532f27600cd9df",
            "b4967bf1a36243579a52c46e726d3e40",
            "96502cc2a7cd40ab812690e6e648ade2",
            "d12fa199ffa74c5aa4153eade080b045",
            "b901acdbd98049c6b6b12d6eb7ae63a5",
            "0e944382960940e894e487aef3670fcb",
            "85bda724502543d0b1046b6eb1efd0e1",
            "cc0df4056d124d6dac8a39727a1fb2a8",
            "37e784f638af4571b216f2192f83393c",
            "5b8a0e1273734e0abe4d469709ff3526",
            "25c608597003406fa2a071f24e842215",
            "f221ed827843452097f28eb026ae8d9d",
            "fc77fdd098024805bea847dcc83fed4b",
            "d4127115eedf488aa43f879d2e9f7d25",
            "248b081122a4470e96cc86b14a81be88",
            "260521a1521f43ebb1fb1f97a62e566a",
            "3cbd7b05c924467887cf8cd4712727b4",
            "ef81e57ed79a4b689acf49b9751bede1",
            "c0a4b251dd7e44b097e4f79eaa07abf0",
            "5bd24cf435ca43a7ac902a467d55b3b9",
            "1096f9e6b87c4c49805f556950c6dff5",
            "77ce5c696c034e11b5a1545910a887ff",
            "e2c62fcac71f450b9bd8ce94ff4ce49f",
            "d822740e5413491182db1e7c2a385251",
            "3893d09583af4e8196c989ecd75bc53e",
            "320620a65ff14ee2b74cb502756d18d5",
            "efa14c363af4490f9f30b957eec30aa3",
            "0000a8b73657471e8f61e855e5f5b350",
            "e7c6f0b660a44e428464ad195f158825",
            "81be698461f1478195acd072ef11fc7c",
            "3a61cf8894ee44c69992f60e72374af8",
            "7826948b8efd400092986a69cfc307bb",
            "20d8188e4eb340e9a555c1a49382a410",
            "17aa44ff421641079e6f992ac522c15e",
            "038d8e8f68d242c99c5171860754e746",
            "3c12a3f55d1046a7a6045f5e36fbe6dd",
            "6098c596d26b46a2b5aa0d9e834ad13d",
            "3c7d82234d794618981eb7e8ed95e3df",
            "6b0a6c1d3ed14c49a67ac0bd7694d16a",
            "dcbcf8f9911c4ff488661dc2cdad3bbc",
            "d3c3f0f4ef7646e3adef0766f30d66df"
          ]
        },
        "id": "Mu4Izi9DdVn1",
        "outputId": "c5842539-b2f8-45ae-d001-cea1c0d3ec6a"
      },
      "outputs": [
        {
          "name": "stderr",
          "output_type": "stream",
          "text": [
            "Some weights of LayoutLMv2ForSequenceClassification were not initialized from the model checkpoint at microsoft/layoutlmv2-base-uncased and are newly initialized: ['classifier.weight', 'classifier.bias']\n",
            "You should probably TRAIN this model on a down-stream task to be able to use it for predictions and inference.\n"
          ]
        },
        {
          "data": {
            "application/vnd.jupyter.widget-view+json": {
              "model_id": "306ea30aa0fb4600b682e5bfcd1b0a89",
              "version_major": 2,
              "version_minor": 0
            },
            "text/plain": [
              "Map:   0%|          | 0/1920 [00:00<?, ? examples/s]"
            ]
          },
          "metadata": {},
          "output_type": "display_data"
        },
        {
          "data": {
            "application/vnd.jupyter.widget-view+json": {
              "model_id": "47482449bfb9458e845fc8ca77cea505",
              "version_major": 2,
              "version_minor": 0
            },
            "text/plain": [
              "Map:   0%|          | 0/640 [00:00<?, ? examples/s]"
            ]
          },
          "metadata": {},
          "output_type": "display_data"
        }
      ],
      "source": [
        "import torch\n",
        "from transformers import LayoutLMv2FeatureExtractor, LayoutLMv2Tokenizer, LayoutLMv2Processor, LayoutLMv2ForSequenceClassification\n",
        "\n",
        "model = LayoutLMv2ForSequenceClassification.from_pretrained(\n",
        "    \"microsoft/layoutlmv2-base-uncased\", \n",
        "    num_labels=len(label2idx)  # Specify the number of classes here\n",
        ")\n",
        "\n",
        "# Move the entire model to GPU if available\n",
        "if torch.cuda.is_available():\n",
        "    model.to('cuda')\n",
        "\n",
        "# Assuming you have implemented the training_dataloader_from_df function\n",
        "train_dataloader = training_dataloader_from_df(train_data)\n",
        "\n",
        "# Assuming you have implemented the training_dataloader_from_df function\n",
        "valid_dataloader = training_dataloader_from_df(valid_data)\n",
        "\n",
        "# Move the data loaders to GPU if available\n",
        "if torch.cuda.is_available():\n",
        "    for batch in train_dataloader:\n",
        "        for key in batch:\n",
        "            batch[key] = batch[key].to('cuda')\n",
        "    for batch in valid_dataloader:\n",
        "        for key in batch:\n",
        "            batch[key] = batch[key].to('cuda')"
      ]
    },
    {
      "cell_type": "code",
      "execution_count": 42,
      "metadata": {
        "colab": {
          "base_uri": "https://localhost:8080/"
        },
        "id": "vHbcTkHbdVpu",
        "outputId": "61d95b4d-3158-46fe-b509-9edbb7194bc9"
      },
      "outputs": [
        {
          "name": "stderr",
          "output_type": "stream",
          "text": [
            "Some weights of LayoutLMv2ForSequenceClassification were not initialized from the model checkpoint at microsoft/layoutlmv2-base-uncased and are newly initialized: ['classifier.weight', 'classifier.bias']\n",
            "You should probably TRAIN this model on a down-stream task to be able to use it for predictions and inference.\n"
          ]
        }
      ],
      "source": [
        "model = LayoutLMv2ForSequenceClassification.from_pretrained(\n",
        "    \"microsoft/layoutlmv2-base-uncased\",  num_labels=len(label2idx)\n",
        ")\n",
        "model.to(device);"
      ]
    },
    {
      "cell_type": "code",
      "execution_count": 43,
      "metadata": {
        "colab": {
          "base_uri": "https://localhost:8080/"
        },
        "id": "NMvztCUESn_N",
        "outputId": "4e93614d-140e-46a0-e36b-4397b1475672"
      },
      "outputs": [
        {
          "name": "stderr",
          "output_type": "stream",
          "text": [
            "d:\\PythonEnv\\tf\\lib\\site-packages\\transformers\\optimization.py:411: FutureWarning: This implementation of AdamW is deprecated and will be removed in a future version. Use the PyTorch implementation torch.optim.AdamW instead, or set `no_deprecation_warning=True` to disable this warning\n",
            "  warnings.warn(\n"
          ]
        },
        {
          "name": "stdout",
          "output_type": "stream",
          "text": [
            "Epoch: 0\n"
          ]
        },
        {
          "name": "stderr",
          "output_type": "stream",
          "text": [
            "100%|██████████| 480/480 [06:56<00:00,  1.15it/s]\n"
          ]
        },
        {
          "name": "stdout",
          "output_type": "stream",
          "text": [
            "Training Loss: 0.4967321339684228\n",
            "Training accuracy: 42.96875\n"
          ]
        },
        {
          "name": "stderr",
          "output_type": "stream",
          "text": [
            "100%|██████████| 160/160 [00:22<00:00,  6.98it/s]\n"
          ]
        },
        {
          "name": "stdout",
          "output_type": "stream",
          "text": [
            "Validation Loss: 0.37722359960898755\n",
            "Validation accuracy: 58.28125\n",
            "Epoch: 1\n"
          ]
        },
        {
          "name": "stderr",
          "output_type": "stream",
          "text": [
            "100%|██████████| 480/480 [06:48<00:00,  1.17it/s]\n"
          ]
        },
        {
          "name": "stdout",
          "output_type": "stream",
          "text": [
            "Training Loss: 0.3090564238043347\n",
            "Training accuracy: 66.19791666666667\n"
          ]
        },
        {
          "name": "stderr",
          "output_type": "stream",
          "text": [
            "100%|██████████| 160/160 [00:22<00:00,  7.24it/s]\n"
          ]
        },
        {
          "name": "stdout",
          "output_type": "stream",
          "text": [
            "Validation Loss: 0.28771191608393565\n",
            "Validation accuracy: 67.65625\n",
            "Epoch: 2\n"
          ]
        },
        {
          "name": "stderr",
          "output_type": "stream",
          "text": [
            "100%|██████████| 480/480 [06:39<00:00,  1.20it/s]\n"
          ]
        },
        {
          "name": "stdout",
          "output_type": "stream",
          "text": [
            "Training Loss: 0.24915425999788568\n",
            "Training accuracy: 72.60416666666667\n"
          ]
        },
        {
          "name": "stderr",
          "output_type": "stream",
          "text": [
            "100%|██████████| 160/160 [00:22<00:00,  7.26it/s]\n"
          ]
        },
        {
          "name": "stdout",
          "output_type": "stream",
          "text": [
            "Validation Loss: 0.2406612847931683\n",
            "Validation accuracy: 72.1875\n",
            "Epoch: 3\n"
          ]
        },
        {
          "name": "stderr",
          "output_type": "stream",
          "text": [
            "100%|██████████| 480/480 [06:38<00:00,  1.20it/s]\n"
          ]
        },
        {
          "name": "stdout",
          "output_type": "stream",
          "text": [
            "Training Loss: 0.21772268917120527\n",
            "Training accuracy: 75.20833333333333\n"
          ]
        },
        {
          "name": "stderr",
          "output_type": "stream",
          "text": [
            "100%|██████████| 160/160 [00:22<00:00,  7.26it/s]\n"
          ]
        },
        {
          "name": "stdout",
          "output_type": "stream",
          "text": [
            "Validation Loss: 0.24125632086070253\n",
            "Validation accuracy: 72.5\n",
            "Epoch: 4\n"
          ]
        },
        {
          "name": "stderr",
          "output_type": "stream",
          "text": [
            "100%|██████████| 480/480 [06:38<00:00,  1.20it/s]\n"
          ]
        },
        {
          "name": "stdout",
          "output_type": "stream",
          "text": [
            "Training Loss: 0.1715139972686302\n",
            "Training accuracy: 80.3125\n"
          ]
        },
        {
          "name": "stderr",
          "output_type": "stream",
          "text": [
            "100%|██████████| 160/160 [00:22<00:00,  7.24it/s]"
          ]
        },
        {
          "name": "stdout",
          "output_type": "stream",
          "text": [
            "Validation Loss: 0.22039087728480808\n",
            "Validation accuracy: 74.6875\n"
          ]
        },
        {
          "name": "stderr",
          "output_type": "stream",
          "text": [
            "\n"
          ]
        }
      ],
      "source": [
        "import torch\n",
        "from tqdm import tqdm\n",
        "from transformers import AdamW\n",
        "\n",
        "# Initialize the optimizer\n",
        "optimizer = AdamW(model.parameters(), lr=5e-5)\n",
        "num_epochs = 5\n",
        "\n",
        "for epoch in range(num_epochs):\n",
        "    print(\"Epoch:\", epoch)\n",
        "    training_loss = 0.0\n",
        "    training_correct = 0\n",
        "    model.train()\n",
        "    for batch in tqdm(train_dataloader):\n",
        "        outputs = model(**batch)\n",
        "        loss = outputs.loss\n",
        "        training_loss += loss.item()\n",
        "        predictions = outputs.logits.argmax(-1)\n",
        "        training_correct += (predictions == batch['labels']).float().sum().item()\n",
        "\n",
        "        loss.backward()\n",
        "        optimizer.step()\n",
        "        optimizer.zero_grad()\n",
        "\n",
        "    # Properly averaged metrics\n",
        "    training_loss /= len(train_dataloader.dataset)  # Total number of training examples\n",
        "    training_accuracy = 100 * training_correct / len(train_dataloader.dataset)  # Total number of training examples\n",
        "    print(\"Training Loss:\", training_loss)\n",
        "    print(\"Training accuracy:\", training_accuracy)\n",
        "\n",
        "    model.eval()\n",
        "    validation_loss = 0.0\n",
        "    validation_correct = 0\n",
        "    with torch.no_grad():\n",
        "        for batch in tqdm(valid_dataloader):\n",
        "            outputs = model(**batch)\n",
        "            loss = outputs.loss\n",
        "            validation_loss += loss.item()\n",
        "            predictions = outputs.logits.argmax(-1)\n",
        "            validation_correct += (predictions == batch['labels']).float().sum().item()\n",
        "\n",
        "    validation_loss /= len(valid_dataloader.dataset)  # Total number of validation examples\n",
        "    validation_accuracy = 100 * validation_correct / len(valid_dataloader.dataset)  # Total number of validation examples\n",
        "    print(\"Validation Loss:\", validation_loss)\n",
        "    print(\"Validation accuracy:\", validation_accuracy)\n"
      ]
    },
    {
      "cell_type": "code",
      "execution_count": 44,
      "metadata": {},
      "outputs": [],
      "source": [
        "model.save_pretrained('C:\\\\Users\\\\Kounen Fathima\\\\django\\\\mysite\\\\dcapp\\\\model\\\\saved_model')"
      ]
    },
    {
      "cell_type": "code",
      "execution_count": 45,
      "metadata": {
        "colab": {
          "base_uri": "https://localhost:8080/"
        },
        "id": "EIpBZJlxgBJC",
        "outputId": "c9b7a115-44db-4afb-fb54-d214d37528b4"
      },
      "outputs": [],
      "source": [
        "from transformers import LayoutLMv2Processor, LayoutLMv2ForSequenceClassification\n",
        "\n",
        "# Assuming 'model' is your fine-tuned LayoutLMv2 model\n",
        "# and 'processor' is your processor (includes tokenizer and feature extractor)\n",
        "\n",
        "save_directory = \"C:\\\\Users\\\\Kounen Fathima\\\\django\\\\mysite\\\\dcapp\\\\NEWModelDirectory\"\n",
        "\n",
        "# Save the model\n",
        "model.save_pretrained(save_directory)\n",
        "\n",
        "# Save the processor (which includes the tokenizer and feature extractor)\n",
        "processor.save_pretrained(save_directory)\n"
      ]
    },
    {
      "cell_type": "code",
      "execution_count": 46,
      "metadata": {
        "id": "zV7wVQSIdkES"
      },
      "outputs": [],
      "source": [
        "device = torch.device(\"cuda\" if torch.cuda.is_available() else \"cpu\")\n",
        "model = LayoutLMv2ForSequenceClassification.from_pretrained(\"saved_model\")\n",
        "model.to(device);"
      ]
    },
    {
      "cell_type": "code",
      "execution_count": 47,
      "metadata": {
        "colab": {
          "base_uri": "https://localhost:8080/",
          "height": 1000,
          "referenced_widgets": [
            "2a6c07c545c14ad9907ae99176206bf4",
            "37e90f38e3c5405fbfe5cdaa4f5b43c0",
            "917e538f14e84f2faad8c70a212c1548",
            "01784c9fe1ac4bb78f4e727f80971398",
            "4ffdc6787ee444bf861ccdee9f2868f3",
            "f65e67d17ac243b297079305d3d71d90",
            "bd191362f6cc4d649b8559fd4aef43a9",
            "d273488671634c50a5a039723584e8e8",
            "ff0eec5053574fefa6594db45c06d4b3",
            "439eb629951e4c40b4c2cc2975545cf3",
            "2e5ee2ed5f894b63b30e12476c9c9e01"
          ]
        },
        "id": "1JWg_On_Rw8F",
        "outputId": "54f2eeaf-6925-4610-f9df-4b0161bdcc78"
      },
      "outputs": [
        {
          "data": {
            "application/vnd.jupyter.widget-view+json": {
              "model_id": "66b1e5d2fdf0431e8583bd65d5791eed",
              "version_major": 2,
              "version_minor": 0
            },
            "text/plain": [
              "Map:   0%|          | 0/640 [00:00<?, ? examples/s]"
            ]
          },
          "metadata": {},
          "output_type": "display_data"
        },
        {
          "name": "stderr",
          "output_type": "stream",
          "text": [
            "100%|██████████| 160/160 [00:21<00:00,  7.54it/s]\n"
          ]
        },
        {
          "name": "stdout",
          "output_type": "stream",
          "text": [
            "Confusion Matrix:\n",
            " [[26  0  0  3  1  0  0  0  1  5  0  1  0  0  3  0]\n",
            " [ 0 25  0  2  3  1  1  0  4  0  2  1  0  1  0  0]\n",
            " [ 0  0 40  0  0  0  0  0  0  0  0  0  0  0  0  0]\n",
            " [ 0  0  0 36  1  1  0  0  0  0  1  0  0  0  1  0]\n",
            " [ 0  4  0  2 19  2  1  0  0  0  0  0  0  3  6  3]\n",
            " [ 0  0  0  2  1 31  0  0  0  0  0  0  0  0  6  0]\n",
            " [ 0  3  0  1  7  0 27  0  0  0  0  2  0  0  0  0]\n",
            " [ 0  1  0  0  0  2  0 33  1  0  0  0  0  0  2  1]\n",
            " [ 0  0  0  1  2  0  0  0 32  1  1  0  0  1  0  2]\n",
            " [ 1  3  0  2  0  0  0  0  0 26  2  2  0  3  0  1]\n",
            " [ 0  2  0  6  0  1  2  0  0  0 15  6  0  0  6  2]\n",
            " [ 1  0  0  2  1  0  0  0  4  1  0 28  0  0  1  2]\n",
            " [ 0  1  0  0  1  0  0  0  0  0  0  0 36  1  1  0]\n",
            " [ 0  1  0  0  0  0  0  0  0  2  0  0  0 34  1  2]\n",
            " [ 0  2  0  3  0  0  0  0  0  0  1  0  0  1 33  0]\n",
            " [ 0  2  0  0  1  0  1  0  0  0  1  1  0  0  0 34]]\n",
            "Precision: 0.7597\n",
            "Recall: 0.7422\n",
            "F1 Score: 0.7414\n",
            "Accuracy: 0.7422\n"
          ]
        },
        {
          "data": {
            "image/png": "[encoded data removed]",
            "text/plain": [
              "<Figure size 1000x700 with 2 Axes>"
            ]
          },
          "metadata": {},
          "output_type": "display_data"
        }
      ],
      "source": [
        "from sklearn.metrics import confusion_matrix, precision_recall_fscore_support, accuracy_score\n",
        "from matplotlib import pyplot as plt\n",
        "\n",
        "# Assuming you have implemented the training_dataloader_from_df function\n",
        "test_dataloader = training_dataloader_from_df(test_data)\n",
        "\n",
        "# Move the data loader to GPU if available\n",
        "if torch.cuda.is_available():\n",
        "    model.to('cuda')\n",
        "    for batch in test_dataloader:\n",
        "        for key in batch:\n",
        "            batch[key] = batch[key].to('cuda')\n",
        "\n",
        "# Evaluate on the test set\n",
        "model.eval()\n",
        "all_predictions = []\n",
        "all_labels = []\n",
        "\n",
        "for batch in tqdm(test_dataloader):\n",
        "    with torch.no_grad():\n",
        "        outputs = model(**batch)\n",
        "\n",
        "    predictions = outputs.logits.argmax(-1).cpu().numpy()\n",
        "    labels = batch['labels'].cpu().numpy()\n",
        "\n",
        "    all_predictions.extend(predictions)\n",
        "    all_labels.extend(labels)\n",
        "\n",
        "# Convert lists to numpy arrays for sklearn metrics\n",
        "all_predictions = np.array(all_predictions)\n",
        "all_labels = np.array(all_labels)\n",
        "\n",
        "# Calculate metrics\n",
        "conf_matrix = confusion_matrix(all_labels, all_predictions)\n",
        "precision, recall, f1, _ = precision_recall_fscore_support(all_labels, all_predictions, average='weighted')\n",
        "accuracy = accuracy_score(all_labels, all_predictions)\n",
        "\n",
        "print(\"Confusion Matrix:\\n\", conf_matrix)\n",
        "print(f\"Precision: {precision:.4f}\")\n",
        "print(f\"Recall: {recall:.4f}\")\n",
        "print(f\"F1 Score: {f1:.4f}\")\n",
        "print(f\"Accuracy: {accuracy:.4f}\")\n",
        "\n",
        "# Plot the confusion matrix\n",
        "plt.figure(figsize=(10, 7))\n",
        "plt.imshow(conf_matrix, cmap='Blues', interpolation='nearest')\n",
        "plt.title('Confusion Matrix')\n",
        "plt.colorbar()\n",
        "tick_marks = np.arange(len(set(all_labels)))\n",
        "plt.xticks(tick_marks, tick_marks, rotation=45)\n",
        "plt.yticks(tick_marks, tick_marks)\n",
        "plt.xlabel('Predicted')\n",
        "plt.ylabel('True')\n",
        "plt.show()\n"
      ]
    },
    {
      "cell_type": "code",
      "execution_count": 48,
      "metadata": {},
      "outputs": [
        {
          "data": {
            "text/plain": [
              "{'advertisement': 0.00010895362356677651,\n",
              " 'budget': 0.0002704743528738618,\n",
              " 'email': 0.9875890612602234,\n",
              " 'file_folder': 0.0012381206033751369,\n",
              " 'form': 0.0005722146015614271,\n",
              " 'handwritten': 0.00018406740855425596,\n",
              " 'invoice': 0.00021783066040370613,\n",
              " 'letter': 0.0010566110722720623,\n",
              " 'memo': 0.0021863558795303106,\n",
              " 'news_article': 0.00038617505924776196,\n",
              " 'presentation': 0.0005670240498147905,\n",
              " 'questionnaire': 0.0004562579561024904,\n",
              " 'resume': 0.0015948540531098843,\n",
              " 'scientific_publication': 0.0004655859956983477,\n",
              " 'scientific_report': 0.000567960029002279,\n",
              " 'specification': 0.002538397442549467}"
            ]
          },
          "execution_count": 48,
          "metadata": {},
          "output_type": "execute_result"
        }
      ],
      "source": [
        "query = 'C:\\\\Users\\\\Kounen Fathima\\\\Downloads\\\\test\\\\email\\\\71108803.tif'\n",
        "image = Image.open(query).convert(\"RGB\")\n",
        "encoded_inputs = processor(image, return_tensors=\"pt\").to(device)\n",
        "outputs = model(**encoded_inputs)\n",
        "preds = torch.softmax(outputs.logits, dim=1).tolist()[0]\n",
        "pred_labels = {label:pred for label, pred in zip(label2idx.keys(), preds)}\n",
        "pred_labels"
      ]
    },
    {
      "cell_type": "code",
      "execution_count": 49,
      "metadata": {
        "colab": {
          "base_uri": "https://localhost:8080/",
          "height": 1000
        },
        "collapsed": true,
        "id": "Rd5-f2DYdnl6",
        "outputId": "5f3b4f3d-9baf-47ff-a3ad-f0b695ae4e3e"
      },
      "outputs": [
        {
          "data": {
            "image/jpeg": "[encoded data removed]",
            "image/png": "[encoded data removed]",
            "text/plain": [
              "<PIL.Image.Image image mode=RGB size=762x1000>"
            ]
          },
          "execution_count": 49,
          "metadata": {},
          "output_type": "execute_result"
        }
      ],
      "source": [
        "image"
      ]
    },
    {
      "cell_type": "code",
      "execution_count": 50,
      "metadata": {
        "colab": {
          "base_uri": "https://localhost:8080/"
        },
        "id": "FyjRhpBmnWNE",
        "outputId": "1e774eb6-583d-4dcc-e7b3-86104553de6f"
      },
      "outputs": [
        {
          "name": "stdout",
          "output_type": "stream",
          "text": [
            "Accuracy: 74.22%\n",
            "\n",
            "Class: advertisement\n",
            "Precision: 0.9286\n",
            "Recall: 0.6500\n",
            "F1-score: 0.7647\n",
            "Support: 40\n",
            "\n",
            "Class: budget\n",
            "Precision: 0.5682\n",
            "Recall: 0.6250\n",
            "F1-score: 0.5952\n",
            "Support: 40\n",
            "\n",
            "Class: email\n",
            "Precision: 1.0000\n",
            "Recall: 1.0000\n",
            "F1-score: 1.0000\n",
            "Support: 40\n",
            "\n",
            "Class: file_folder\n",
            "Precision: 0.6000\n",
            "Recall: 0.9000\n",
            "F1-score: 0.7200\n",
            "Support: 40\n",
            "\n",
            "Class: form\n",
            "Precision: 0.5135\n",
            "Recall: 0.4750\n",
            "F1-score: 0.4935\n",
            "Support: 40\n",
            "\n",
            "Class: handwritten\n",
            "Precision: 0.8158\n",
            "Recall: 0.7750\n",
            "F1-score: 0.7949\n",
            "Support: 40\n",
            "\n",
            "Class: invoice\n",
            "Precision: 0.8438\n",
            "Recall: 0.6750\n",
            "F1-score: 0.7500\n",
            "Support: 40\n",
            "\n",
            "Class: letter\n",
            "Precision: 1.0000\n",
            "Recall: 0.8250\n",
            "F1-score: 0.9041\n",
            "Support: 40\n",
            "\n",
            "Class: memo\n",
            "Precision: 0.7619\n",
            "Recall: 0.8000\n",
            "F1-score: 0.7805\n",
            "Support: 40\n",
            "\n",
            "Class: news_article\n",
            "Precision: 0.7429\n",
            "Recall: 0.6500\n",
            "F1-score: 0.6933\n",
            "Support: 40\n",
            "\n",
            "Class: presentation\n",
            "Precision: 0.6522\n",
            "Recall: 0.3750\n",
            "F1-score: 0.4762\n",
            "Support: 40\n",
            "\n",
            "Class: questionnaire\n",
            "Precision: 0.6829\n",
            "Recall: 0.7000\n",
            "F1-score: 0.6914\n",
            "Support: 40\n",
            "\n",
            "Class: resume\n",
            "Precision: 1.0000\n",
            "Recall: 0.9000\n",
            "F1-score: 0.9474\n",
            "Support: 40\n",
            "\n",
            "Class: scientific_publication\n",
            "Precision: 0.7727\n",
            "Recall: 0.8500\n",
            "F1-score: 0.8095\n",
            "Support: 40\n",
            "\n",
            "Class: scientific_report\n",
            "Precision: 0.5500\n",
            "Recall: 0.8250\n",
            "F1-score: 0.6600\n",
            "Support: 40\n",
            "\n",
            "Class: specification\n",
            "Precision: 0.7234\n",
            "Recall: 0.8500\n",
            "F1-score: 0.7816\n",
            "Support: 40\n"
          ]
        }
      ],
      "source": [
        "# Precision, Recall, F-score, Support\n",
        "precision, recall, fscore, support = precision_recall_fscore_support(all_labels, all_predictions)\n",
        "\n",
        "# Accuracy\n",
        "accuracy = accuracy_score(all_labels, all_predictions)\n",
        "print(f\"Accuracy: {accuracy * 100:.2f}%\")\n",
        "\n",
        "# Display precision, recall, f-score for each class\n",
        "for label, prec, rec, fs, sup in zip(label2idx.keys(), precision, recall, fscore, support):\n",
        "    print(f\"\\nClass: {label}\")\n",
        "    print(f\"Precision: {prec:.4f}\")\n",
        "    print(f\"Recall: {rec:.4f}\")\n",
        "    print(f\"F1-score: {fs:.4f}\")\n",
        "    print(f\"Support: {sup}\")\n"
      ]
    },
    {
      "cell_type": "code",
      "execution_count": 51,
      "metadata": {
        "colab": {
          "base_uri": "https://localhost:8080/",
          "height": 410
        },
        "id": "vARWjIOahEPd",
        "outputId": "5809bbd2-edfa-4061-9aa9-48e300b2c4d9"
      },
      "outputs": [
        {
          "data": {
            "image/png": "[encoded data removed]",
            "text/plain": [
              "<Figure size 600x400 with 2 Axes>"
            ]
          },
          "metadata": {},
          "output_type": "display_data"
        }
      ],
      "source": [
        "import seaborn as sns\n",
        "conf_matrix = confusion_matrix(all_labels, all_predictions)\n",
        "\n",
        "# Extract TP, TN, FP, FN counts\n",
        "tp = np.diag(conf_matrix)\n",
        "fp = np.sum(conf_matrix, axis=0) - tp\n",
        "fn = np.sum(conf_matrix, axis=1) - tp\n",
        "tn = np.sum(conf_matrix) - (tp + fp + fn)\n",
        "\n",
        "# Construct a new confusion matrix\n",
        "conf_matrix_agg = np.array([[tn.sum(), fp.sum()], [fn.sum(), tp.sum()]])\n",
        "\n",
        "# Plot the confusion matrix\n",
        "plt.figure(figsize=(6, 4))\n",
        "sns.heatmap(conf_matrix_agg, annot=True, fmt=\"d\", cmap=\"Blues\", xticklabels=['Predicted Negative', 'Predicted Positive'], yticklabels=['Actual Negative', 'Actual Positive'])\n",
        "plt.xlabel(\"Predicted Labels\")\n",
        "plt.ylabel(\"True Labels\")\n",
        "plt.title(\"Confusion Matrix for Overall Dataset\")\n",
        "plt.show()"
      ]
    },
    {
      "cell_type": "code",
      "execution_count": 52,
      "metadata": {
        "colab": {
          "base_uri": "https://localhost:8080/",
          "height": 604
        },
        "id": "J2bOUGwxszMg",
        "outputId": "7a117a7b-5c07-4c63-8c8c-a7ffc931fbaf"
      },
      "outputs": [
        {
          "data": {
            "image/png": "[encoded data removed]",
            "text/plain": [
              "<Figure size 640x480 with 2 Axes>"
            ]
          },
          "metadata": {},
          "output_type": "display_data"
        }
      ],
      "source": [
        "sns.heatmap(conf_matrix, annot=True, fmt=\"d\", cmap=\"Blues\", xticklabels=label2idx.keys(), yticklabels=label2idx.keys())\n",
        "plt.xlabel(\"Predicted Labels\")\n",
        "plt.ylabel(\"True Labels\")\n",
        "plt.title(\"Confusion Matrix\")\n",
        "plt.show()"
      ]
    },
    {
      "cell_type": "code",
      "execution_count": 53,
      "metadata": {
        "colab": {
          "base_uri": "https://localhost:8080/",
          "height": 736
        },
        "id": "nglGM5wU9eFA",
        "outputId": "2f8b1683-099d-4b3d-8c64-aec564287719"
      },
      "outputs": [
        {
          "name": "stderr",
          "output_type": "stream",
          "text": [
            "100%|██████████| 160/160 [00:21<00:00,  7.46it/s]\n"
          ]
        },
        {
          "data": {
            "image/png": "[encoded data removed]",
            "text/plain": [
              "<Figure size 800x800 with 1 Axes>"
            ]
          },
          "metadata": {},
          "output_type": "display_data"
        }
      ],
      "source": [
        "from sklearn.preprocessing import label_binarize\n",
        "from sklearn.metrics import roc_curve, auc\n",
        "\n",
        "\n",
        "model.eval()\n",
        "all_probabilities = []\n",
        "all_labels = []\n",
        "\n",
        "for batch in tqdm(test_dataloader):\n",
        "    with torch.no_grad():\n",
        "        outputs = model(**batch)\n",
        "\n",
        "    probabilities = torch.softmax(outputs.logits, dim=1).cpu().numpy()\n",
        "    labels = batch['labels'].cpu().numpy()\n",
        "\n",
        "    all_probabilities.append(probabilities)\n",
        "    all_labels.append(labels)\n",
        "\n",
        "# Concatenate the lists to create arrays\n",
        "all_probabilities = np.concatenate(all_probabilities, axis=0)\n",
        "all_labels = np.concatenate(all_labels, axis=0)\n",
        "\n",
        "# Binarize the labels\n",
        "all_labels_binary = label_binarize(all_labels, classes=np.arange(len(label2idx)))\n",
        "\n",
        "# Compute ROC curve for each class\n",
        "fpr = dict()\n",
        "tpr = dict()\n",
        "roc_auc = dict()\n",
        "\n",
        "for i in range(len(label2idx)):\n",
        "    fpr[i], tpr[i], _ = roc_curve(all_labels_binary[:, i], all_probabilities[:, i])\n",
        "    roc_auc[i] = auc(fpr[i], tpr[i])\n",
        "\n",
        "# Plot the ROC curves for each class\n",
        "plt.figure(figsize=(8, 8))\n",
        "\n",
        "for i in range(len(label2idx)):\n",
        "    plt.plot(fpr[i], tpr[i], lw=2, label=f'ROC curve for class {idx2label[i]} (AUC = {roc_auc[i]:.2f})')\n",
        "\n",
        "plt.plot([0, 1], [0, 1], color='navy', lw=2, linestyle='--')\n",
        "plt.xlim([0.0, 1.0])\n",
        "plt.ylim([0.0, 1.05])\n",
        "plt.xlabel('False Positive Rate')\n",
        "plt.ylabel('True Positive Rate')\n",
        "plt.title('Receiver Operating Characteristic (ROC) Curve for Multiclass Classification')\n",
        "plt.legend(loc=\"lower right\")\n",
        "plt.show()\n"
      ]
    },
    {
      "cell_type": "code",
      "execution_count": 54,
      "metadata": {
        "colab": {
          "base_uri": "https://localhost:8080/",
          "height": 718
        },
        "id": "YI69EFb2F8I_",
        "outputId": "4d2ab5fa-238c-4785-b973-a6a3282b9eef"
      },
      "outputs": [
        {
          "data": {
            "image/png": "[encoded data removed]",
            "text/plain": [
              "<Figure size 800x800 with 1 Axes>"
            ]
          },
          "metadata": {},
          "output_type": "display_data"
        }
      ],
      "source": [
        "from sklearn.metrics import roc_curve, auc\n",
        "# Compute micro-averaged ROC curve\n",
        "fpr_micro, tpr_micro, _ = roc_curve(all_labels_binary.ravel(), all_probabilities.ravel())\n",
        "roc_auc_micro = auc(fpr_micro, tpr_micro)\n",
        "\n",
        "# Plot the ROC curve for overall accuracy\n",
        "plt.figure(figsize=(8, 8))\n",
        "plt.plot(fpr_micro, tpr_micro, lw=2, label=f'Micro-Averaged ROC curve (AUC = {roc_auc_micro:.2f})')\n",
        "plt.plot([0, 1], [0, 1], color='navy', lw=2, linestyle='--')\n",
        "plt.xlim([0.0, 1.0])\n",
        "plt.ylim([0.0, 1.05])\n",
        "plt.xlabel('False Positive Rate')\n",
        "plt.ylabel('True Positive Rate')\n",
        "plt.title('Micro-Averaged Receiver Operating Characteristic (ROC) Curve')\n",
        "plt.legend(loc=\"lower right\")\n",
        "plt.show()\n"
      ]
    }
  ],
  "metadata": {
    "accelerator": "GPU",
    "colab": {
      "provenance": []
    },
    "kernelspec": {
      "display_name": "Python 3",
      "name": "python3"
    },
    "language_info": {
      "codemirror_mode": {
        "name": "ipython",
        "version": 3
      },
      "file_extension": ".py",
      "mimetype": "text/x-python",
      "name": "python",
      "nbconvert_exporter": "python",
      "pygments_lexer": "ipython3",
      "version": "3.8.6"
    },
    "widgets": {
      "application/vnd.jupyter.widget-state+json": {
        "0000a8b73657471e8f61e855e5f5b350": {
          "model_module": "@jupyter-widgets/controls",
          "model_module_version": "1.5.0",
          "model_name": "ProgressStyleModel",
          "state": {
            "_model_module": "@jupyter-widgets/controls",
            "_model_module_version": "1.5.0",
            "_model_name": "ProgressStyleModel",
            "_view_count": null,
            "_view_module": "@jupyter-widgets/base",
            "_view_module_version": "1.2.0",
            "_view_name": "StyleView",
            "bar_color": null,
            "description_width": ""
          }
        },
        "01784c9fe1ac4bb78f4e727f80971398": {
          "model_module": "@jupyter-widgets/controls",
          "model_module_version": "1.5.0",
          "model_name": "HTMLModel",
          "state": {
            "_dom_classes": [],
            "_model_module": "@jupyter-widgets/controls",
            "_model_module_version": "1.5.0",
            "_model_name": "HTMLModel",
            "_view_count": null,
            "_view_module": "@jupyter-widgets/controls",
            "_view_module_version": "1.5.0",
            "_view_name": "HTMLView",
            "description": "",
            "description_tooltip": null,
            "layout": "IPY_MODEL_439eb629951e4c40b4c2cc2975545cf3",
            "placeholder": "​",
            "style": "IPY_MODEL_2e5ee2ed5f894b63b30e12476c9c9e01",
            "value": " 640/640 [33:30&lt;00:00,  2.10s/ examples]"
          }
        },
        "038d8e8f68d242c99c5171860754e746": {
          "model_module": "@jupyter-widgets/base",
          "model_module_version": "1.2.0",
          "model_name": "LayoutModel",
          "state": {
            "_model_module": "@jupyter-widgets/base",
            "_model_module_version": "1.2.0",
            "_model_name": "LayoutModel",
            "_view_count": null,
            "_view_module": "@jupyter-widgets/base",
            "_view_module_version": "1.2.0",
            "_view_name": "LayoutView",
            "align_content": null,
            "align_items": null,
            "align_self": null,
            "border": null,
            "bottom": null,
            "display": null,
            "flex": null,
            "flex_flow": null,
            "grid_area": null,
            "grid_auto_columns": null,
            "grid_auto_flow": null,
            "grid_auto_rows": null,
            "grid_column": null,
            "grid_gap": null,
            "grid_row": null,
            "grid_template_areas": null,
            "grid_template_columns": null,
            "grid_template_rows": null,
            "height": null,
            "justify_content": null,
            "justify_items": null,
            "left": null,
            "margin": null,
            "max_height": null,
            "max_width": null,
            "min_height": null,
            "min_width": null,
            "object_fit": null,
            "object_position": null,
            "order": null,
            "overflow": null,
            "overflow_x": null,
            "overflow_y": null,
            "padding": null,
            "right": null,
            "top": null,
            "visibility": null,
            "width": null
          }
        },
        "0523fcb0165e477cbe44d6ca4d4d2b36": {
          "model_module": "@jupyter-widgets/controls",
          "model_module_version": "1.5.0",
          "model_name": "FloatProgressModel",
          "state": {
            "_dom_classes": [],
            "_model_module": "@jupyter-widgets/controls",
            "_model_module_version": "1.5.0",
            "_model_name": "FloatProgressModel",
            "_view_count": null,
            "_view_module": "@jupyter-widgets/controls",
            "_view_module_version": "1.5.0",
            "_view_name": "ProgressView",
            "bar_style": "success",
            "description": "",
            "description_tooltip": null,
            "layout": "IPY_MODEL_27c8d9adeeed4f37a6c5c68688c47fd0",
            "max": 231508,
            "min": 0,
            "orientation": "horizontal",
            "style": "IPY_MODEL_f68458f772254fba8cb19259b5721e6c",
            "value": 231508
          }
        },
        "0e944382960940e894e487aef3670fcb": {
          "model_module": "@jupyter-widgets/controls",
          "model_module_version": "1.5.0",
          "model_name": "ProgressStyleModel",
          "state": {
            "_model_module": "@jupyter-widgets/controls",
            "_model_module_version": "1.5.0",
            "_model_name": "ProgressStyleModel",
            "_view_count": null,
            "_view_module": "@jupyter-widgets/base",
            "_view_module_version": "1.2.0",
            "_view_name": "StyleView",
            "bar_color": null,
            "description_width": ""
          }
        },
        "1096f9e6b87c4c49805f556950c6dff5": {
          "model_module": "@jupyter-widgets/controls",
          "model_module_version": "1.5.0",
          "model_name": "HTMLModel",
          "state": {
            "_dom_classes": [],
            "_model_module": "@jupyter-widgets/controls",
            "_model_module_version": "1.5.0",
            "_model_name": "HTMLModel",
            "_view_count": null,
            "_view_module": "@jupyter-widgets/controls",
            "_view_module_version": "1.5.0",
            "_view_name": "HTMLView",
            "description": "",
            "description_tooltip": null,
            "layout": "IPY_MODEL_3893d09583af4e8196c989ecd75bc53e",
            "placeholder": "​",
            "style": "IPY_MODEL_320620a65ff14ee2b74cb502756d18d5",
            "value": "Map: 100%"
          }
        },
        "17aa44ff421641079e6f992ac522c15e": {
          "model_module": "@jupyter-widgets/controls",
          "model_module_version": "1.5.0",
          "model_name": "HTMLModel",
          "state": {
            "_dom_classes": [],
            "_model_module": "@jupyter-widgets/controls",
            "_model_module_version": "1.5.0",
            "_model_name": "HTMLModel",
            "_view_count": null,
            "_view_module": "@jupyter-widgets/controls",
            "_view_module_version": "1.5.0",
            "_view_name": "HTMLView",
            "description": "",
            "description_tooltip": null,
            "layout": "IPY_MODEL_dcbcf8f9911c4ff488661dc2cdad3bbc",
            "placeholder": "​",
            "style": "IPY_MODEL_d3c3f0f4ef7646e3adef0766f30d66df",
            "value": " 640/640 [31:54&lt;00:00,  3.13s/ examples]"
          }
        },
        "20d8188e4eb340e9a555c1a49382a410": {
          "model_module": "@jupyter-widgets/controls",
          "model_module_version": "1.5.0",
          "model_name": "FloatProgressModel",
          "state": {
            "_dom_classes": [],
            "_model_module": "@jupyter-widgets/controls",
            "_model_module_version": "1.5.0",
            "_model_name": "FloatProgressModel",
            "_view_count": null,
            "_view_module": "@jupyter-widgets/controls",
            "_view_module_version": "1.5.0",
            "_view_name": "ProgressView",
            "bar_style": "success",
            "description": "",
            "description_tooltip": null,
            "layout": "IPY_MODEL_3c7d82234d794618981eb7e8ed95e3df",
            "max": 640,
            "min": 0,
            "orientation": "horizontal",
            "style": "IPY_MODEL_6b0a6c1d3ed14c49a67ac0bd7694d16a",
            "value": 640
          }
        },
        "248b081122a4470e96cc86b14a81be88": {
          "model_module": "@jupyter-widgets/controls",
          "model_module_version": "1.5.0",
          "model_name": "DescriptionStyleModel",
          "state": {
            "_model_module": "@jupyter-widgets/controls",
            "_model_module_version": "1.5.0",
            "_model_name": "DescriptionStyleModel",
            "_view_count": null,
            "_view_module": "@jupyter-widgets/base",
            "_view_module_version": "1.2.0",
            "_view_name": "StyleView",
            "description_width": ""
          }
        },
        "25c608597003406fa2a071f24e842215": {
          "model_module": "@jupyter-widgets/controls",
          "model_module_version": "1.5.0",
          "model_name": "FloatProgressModel",
          "state": {
            "_dom_classes": [],
            "_model_module": "@jupyter-widgets/controls",
            "_model_module_version": "1.5.0",
            "_model_name": "FloatProgressModel",
            "_view_count": null,
            "_view_module": "@jupyter-widgets/controls",
            "_view_module_version": "1.5.0",
            "_view_name": "ProgressView",
            "bar_style": "success",
            "description": "",
            "description_tooltip": null,
            "layout": "IPY_MODEL_260521a1521f43ebb1fb1f97a62e566a",
            "max": 802243295,
            "min": 0,
            "orientation": "horizontal",
            "style": "IPY_MODEL_3cbd7b05c924467887cf8cd4712727b4",
            "value": 802243295
          }
        },
        "260521a1521f43ebb1fb1f97a62e566a": {
          "model_module": "@jupyter-widgets/base",
          "model_module_version": "1.2.0",
          "model_name": "LayoutModel",
          "state": {
            "_model_module": "@jupyter-widgets/base",
            "_model_module_version": "1.2.0",
            "_model_name": "LayoutModel",
            "_view_count": null,
            "_view_module": "@jupyter-widgets/base",
            "_view_module_version": "1.2.0",
            "_view_name": "LayoutView",
            "align_content": null,
            "align_items": null,
            "align_self": null,
            "border": null,
            "bottom": null,
            "display": null,
            "flex": null,
            "flex_flow": null,
            "grid_area": null,
            "grid_auto_columns": null,
            "grid_auto_flow": null,
            "grid_auto_rows": null,
            "grid_column": null,
            "grid_gap": null,
            "grid_row": null,
            "grid_template_areas": null,
            "grid_template_columns": null,
            "grid_template_rows": null,
            "height": null,
            "justify_content": null,
            "justify_items": null,
            "left": null,
            "margin": null,
            "max_height": null,
            "max_width": null,
            "min_height": null,
            "min_width": null,
            "object_fit": null,
            "object_position": null,
            "order": null,
            "overflow": null,
            "overflow_x": null,
            "overflow_y": null,
            "padding": null,
            "right": null,
            "top": null,
            "visibility": null,
            "width": null
          }
        },
        "27c8d9adeeed4f37a6c5c68688c47fd0": {
          "model_module": "@jupyter-widgets/base",
          "model_module_version": "1.2.0",
          "model_name": "LayoutModel",
          "state": {
            "_model_module": "@jupyter-widgets/base",
            "_model_module_version": "1.2.0",
            "_model_name": "LayoutModel",
            "_view_count": null,
            "_view_module": "@jupyter-widgets/base",
            "_view_module_version": "1.2.0",
            "_view_name": "LayoutView",
            "align_content": null,
            "align_items": null,
            "align_self": null,
            "border": null,
            "bottom": null,
            "display": null,
            "flex": null,
            "flex_flow": null,
            "grid_area": null,
            "grid_auto_columns": null,
            "grid_auto_flow": null,
            "grid_auto_rows": null,
            "grid_column": null,
            "grid_gap": null,
            "grid_row": null,
            "grid_template_areas": null,
            "grid_template_columns": null,
            "grid_template_rows": null,
            "height": null,
            "justify_content": null,
            "justify_items": null,
            "left": null,
            "margin": null,
            "max_height": null,
            "max_width": null,
            "min_height": null,
            "min_width": null,
            "object_fit": null,
            "object_position": null,
            "order": null,
            "overflow": null,
            "overflow_x": null,
            "overflow_y": null,
            "padding": null,
            "right": null,
            "top": null,
            "visibility": null,
            "width": null
          }
        },
        "2a6c07c545c14ad9907ae99176206bf4": {
          "model_module": "@jupyter-widgets/controls",
          "model_module_version": "1.5.0",
          "model_name": "HBoxModel",
          "state": {
            "_dom_classes": [],
            "_model_module": "@jupyter-widgets/controls",
            "_model_module_version": "1.5.0",
            "_model_name": "HBoxModel",
            "_view_count": null,
            "_view_module": "@jupyter-widgets/controls",
            "_view_module_version": "1.5.0",
            "_view_name": "HBoxView",
            "box_style": "",
            "children": [
              "IPY_MODEL_37e90f38e3c5405fbfe5cdaa4f5b43c0",
              "IPY_MODEL_917e538f14e84f2faad8c70a212c1548",
              "IPY_MODEL_01784c9fe1ac4bb78f4e727f80971398"
            ],
            "layout": "IPY_MODEL_4ffdc6787ee444bf861ccdee9f2868f3"
          }
        },
        "2e5ee2ed5f894b63b30e12476c9c9e01": {
          "model_module": "@jupyter-widgets/controls",
          "model_module_version": "1.5.0",
          "model_name": "DescriptionStyleModel",
          "state": {
            "_model_module": "@jupyter-widgets/controls",
            "_model_module_version": "1.5.0",
            "_model_name": "DescriptionStyleModel",
            "_view_count": null,
            "_view_module": "@jupyter-widgets/base",
            "_view_module_version": "1.2.0",
            "_view_name": "StyleView",
            "description_width": ""
          }
        },
        "320620a65ff14ee2b74cb502756d18d5": {
          "model_module": "@jupyter-widgets/controls",
          "model_module_version": "1.5.0",
          "model_name": "DescriptionStyleModel",
          "state": {
            "_model_module": "@jupyter-widgets/controls",
            "_model_module_version": "1.5.0",
            "_model_name": "DescriptionStyleModel",
            "_view_count": null,
            "_view_module": "@jupyter-widgets/base",
            "_view_module_version": "1.2.0",
            "_view_name": "StyleView",
            "description_width": ""
          }
        },
        "37e784f638af4571b216f2192f83393c": {
          "model_module": "@jupyter-widgets/controls",
          "model_module_version": "1.5.0",
          "model_name": "HBoxModel",
          "state": {
            "_dom_classes": [],
            "_model_module": "@jupyter-widgets/controls",
            "_model_module_version": "1.5.0",
            "_model_name": "HBoxModel",
            "_view_count": null,
            "_view_module": "@jupyter-widgets/controls",
            "_view_module_version": "1.5.0",
            "_view_name": "HBoxView",
            "box_style": "",
            "children": [
              "IPY_MODEL_5b8a0e1273734e0abe4d469709ff3526",
              "IPY_MODEL_25c608597003406fa2a071f24e842215",
              "IPY_MODEL_f221ed827843452097f28eb026ae8d9d"
            ],
            "layout": "IPY_MODEL_fc77fdd098024805bea847dcc83fed4b"
          }
        },
        "37e90f38e3c5405fbfe5cdaa4f5b43c0": {
          "model_module": "@jupyter-widgets/controls",
          "model_module_version": "1.5.0",
          "model_name": "HTMLModel",
          "state": {
            "_dom_classes": [],
            "_model_module": "@jupyter-widgets/controls",
            "_model_module_version": "1.5.0",
            "_model_name": "HTMLModel",
            "_view_count": null,
            "_view_module": "@jupyter-widgets/controls",
            "_view_module_version": "1.5.0",
            "_view_name": "HTMLView",
            "description": "",
            "description_tooltip": null,
            "layout": "IPY_MODEL_f65e67d17ac243b297079305d3d71d90",
            "placeholder": "​",
            "style": "IPY_MODEL_bd191362f6cc4d649b8559fd4aef43a9",
            "value": "Map: 100%"
          }
        },
        "3893d09583af4e8196c989ecd75bc53e": {
          "model_module": "@jupyter-widgets/base",
          "model_module_version": "1.2.0",
          "model_name": "LayoutModel",
          "state": {
            "_model_module": "@jupyter-widgets/base",
            "_model_module_version": "1.2.0",
            "_model_name": "LayoutModel",
            "_view_count": null,
            "_view_module": "@jupyter-widgets/base",
            "_view_module_version": "1.2.0",
            "_view_name": "LayoutView",
            "align_content": null,
            "align_items": null,
            "align_self": null,
            "border": null,
            "bottom": null,
            "display": null,
            "flex": null,
            "flex_flow": null,
            "grid_area": null,
            "grid_auto_columns": null,
            "grid_auto_flow": null,
            "grid_auto_rows": null,
            "grid_column": null,
            "grid_gap": null,
            "grid_row": null,
            "grid_template_areas": null,
            "grid_template_columns": null,
            "grid_template_rows": null,
            "height": null,
            "justify_content": null,
            "justify_items": null,
            "left": null,
            "margin": null,
            "max_height": null,
            "max_width": null,
            "min_height": null,
            "min_width": null,
            "object_fit": null,
            "object_position": null,
            "order": null,
            "overflow": null,
            "overflow_x": null,
            "overflow_y": null,
            "padding": null,
            "right": null,
            "top": null,
            "visibility": null,
            "width": null
          }
        },
        "3a61cf8894ee44c69992f60e72374af8": {
          "model_module": "@jupyter-widgets/controls",
          "model_module_version": "1.5.0",
          "model_name": "HBoxModel",
          "state": {
            "_dom_classes": [],
            "_model_module": "@jupyter-widgets/controls",
            "_model_module_version": "1.5.0",
            "_model_name": "HBoxModel",
            "_view_count": null,
            "_view_module": "@jupyter-widgets/controls",
            "_view_module_version": "1.5.0",
            "_view_name": "HBoxView",
            "box_style": "",
            "children": [
              "IPY_MODEL_7826948b8efd400092986a69cfc307bb",
              "IPY_MODEL_20d8188e4eb340e9a555c1a49382a410",
              "IPY_MODEL_17aa44ff421641079e6f992ac522c15e"
            ],
            "layout": "IPY_MODEL_038d8e8f68d242c99c5171860754e746"
          }
        },
        "3c12a3f55d1046a7a6045f5e36fbe6dd": {
          "model_module": "@jupyter-widgets/base",
          "model_module_version": "1.2.0",
          "model_name": "LayoutModel",
          "state": {
            "_model_module": "@jupyter-widgets/base",
            "_model_module_version": "1.2.0",
            "_model_name": "LayoutModel",
            "_view_count": null,
            "_view_module": "@jupyter-widgets/base",
            "_view_module_version": "1.2.0",
            "_view_name": "LayoutView",
            "align_content": null,
            "align_items": null,
            "align_self": null,
            "border": null,
            "bottom": null,
            "display": null,
            "flex": null,
            "flex_flow": null,
            "grid_area": null,
            "grid_auto_columns": null,
            "grid_auto_flow": null,
            "grid_auto_rows": null,
            "grid_column": null,
            "grid_gap": null,
            "grid_row": null,
            "grid_template_areas": null,
            "grid_template_columns": null,
            "grid_template_rows": null,
            "height": null,
            "justify_content": null,
            "justify_items": null,
            "left": null,
            "margin": null,
            "max_height": null,
            "max_width": null,
            "min_height": null,
            "min_width": null,
            "object_fit": null,
            "object_position": null,
            "order": null,
            "overflow": null,
            "overflow_x": null,
            "overflow_y": null,
            "padding": null,
            "right": null,
            "top": null,
            "visibility": null,
            "width": null
          }
        },
        "3c7d82234d794618981eb7e8ed95e3df": {
          "model_module": "@jupyter-widgets/base",
          "model_module_version": "1.2.0",
          "model_name": "LayoutModel",
          "state": {
            "_model_module": "@jupyter-widgets/base",
            "_model_module_version": "1.2.0",
            "_model_name": "LayoutModel",
            "_view_count": null,
            "_view_module": "@jupyter-widgets/base",
            "_view_module_version": "1.2.0",
            "_view_name": "LayoutView",
            "align_content": null,
            "align_items": null,
            "align_self": null,
            "border": null,
            "bottom": null,
            "display": null,
            "flex": null,
            "flex_flow": null,
            "grid_area": null,
            "grid_auto_columns": null,
            "grid_auto_flow": null,
            "grid_auto_rows": null,
            "grid_column": null,
            "grid_gap": null,
            "grid_row": null,
            "grid_template_areas": null,
            "grid_template_columns": null,
            "grid_template_rows": null,
            "height": null,
            "justify_content": null,
            "justify_items": null,
            "left": null,
            "margin": null,
            "max_height": null,
            "max_width": null,
            "min_height": null,
            "min_width": null,
            "object_fit": null,
            "object_position": null,
            "order": null,
            "overflow": null,
            "overflow_x": null,
            "overflow_y": null,
            "padding": null,
            "right": null,
            "top": null,
            "visibility": null,
            "width": null
          }
        },
        "3cbd7b05c924467887cf8cd4712727b4": {
          "model_module": "@jupyter-widgets/controls",
          "model_module_version": "1.5.0",
          "model_name": "ProgressStyleModel",
          "state": {
            "_model_module": "@jupyter-widgets/controls",
            "_model_module_version": "1.5.0",
            "_model_name": "ProgressStyleModel",
            "_view_count": null,
            "_view_module": "@jupyter-widgets/base",
            "_view_module_version": "1.2.0",
            "_view_name": "StyleView",
            "bar_color": null,
            "description_width": ""
          }
        },
        "439eb629951e4c40b4c2cc2975545cf3": {
          "model_module": "@jupyter-widgets/base",
          "model_module_version": "1.2.0",
          "model_name": "LayoutModel",
          "state": {
            "_model_module": "@jupyter-widgets/base",
            "_model_module_version": "1.2.0",
            "_model_name": "LayoutModel",
            "_view_count": null,
            "_view_module": "@jupyter-widgets/base",
            "_view_module_version": "1.2.0",
            "_view_name": "LayoutView",
            "align_content": null,
            "align_items": null,
            "align_self": null,
            "border": null,
            "bottom": null,
            "display": null,
            "flex": null,
            "flex_flow": null,
            "grid_area": null,
            "grid_auto_columns": null,
            "grid_auto_flow": null,
            "grid_auto_rows": null,
            "grid_column": null,
            "grid_gap": null,
            "grid_row": null,
            "grid_template_areas": null,
            "grid_template_columns": null,
            "grid_template_rows": null,
            "height": null,
            "justify_content": null,
            "justify_items": null,
            "left": null,
            "margin": null,
            "max_height": null,
            "max_width": null,
            "min_height": null,
            "min_width": null,
            "object_fit": null,
            "object_position": null,
            "order": null,
            "overflow": null,
            "overflow_x": null,
            "overflow_y": null,
            "padding": null,
            "right": null,
            "top": null,
            "visibility": null,
            "width": null
          }
        },
        "4ffdc6787ee444bf861ccdee9f2868f3": {
          "model_module": "@jupyter-widgets/base",
          "model_module_version": "1.2.0",
          "model_name": "LayoutModel",
          "state": {
            "_model_module": "@jupyter-widgets/base",
            "_model_module_version": "1.2.0",
            "_model_name": "LayoutModel",
            "_view_count": null,
            "_view_module": "@jupyter-widgets/base",
            "_view_module_version": "1.2.0",
            "_view_name": "LayoutView",
            "align_content": null,
            "align_items": null,
            "align_self": null,
            "border": null,
            "bottom": null,
            "display": null,
            "flex": null,
            "flex_flow": null,
            "grid_area": null,
            "grid_auto_columns": null,
            "grid_auto_flow": null,
            "grid_auto_rows": null,
            "grid_column": null,
            "grid_gap": null,
            "grid_row": null,
            "grid_template_areas": null,
            "grid_template_columns": null,
            "grid_template_rows": null,
            "height": null,
            "justify_content": null,
            "justify_items": null,
            "left": null,
            "margin": null,
            "max_height": null,
            "max_width": null,
            "min_height": null,
            "min_width": null,
            "object_fit": null,
            "object_position": null,
            "order": null,
            "overflow": null,
            "overflow_x": null,
            "overflow_y": null,
            "padding": null,
            "right": null,
            "top": null,
            "visibility": null,
            "width": null
          }
        },
        "59275a4acaa540d9b8254638d2a9ca99": {
          "model_module": "@jupyter-widgets/controls",
          "model_module_version": "1.5.0",
          "model_name": "HTMLModel",
          "state": {
            "_dom_classes": [],
            "_model_module": "@jupyter-widgets/controls",
            "_model_module_version": "1.5.0",
            "_model_name": "HTMLModel",
            "_view_count": null,
            "_view_module": "@jupyter-widgets/controls",
            "_view_module_version": "1.5.0",
            "_view_name": "HTMLView",
            "description": "",
            "description_tooltip": null,
            "layout": "IPY_MODEL_c14a752987ab40b49d96c9f932335c22",
            "placeholder": "​",
            "style": "IPY_MODEL_d4ad6f9425044cce920518c234cbc400",
            "value": "vocab.txt: 100%"
          }
        },
        "5b8a0e1273734e0abe4d469709ff3526": {
          "model_module": "@jupyter-widgets/controls",
          "model_module_version": "1.5.0",
          "model_name": "HTMLModel",
          "state": {
            "_dom_classes": [],
            "_model_module": "@jupyter-widgets/controls",
            "_model_module_version": "1.5.0",
            "_model_name": "HTMLModel",
            "_view_count": null,
            "_view_module": "@jupyter-widgets/controls",
            "_view_module_version": "1.5.0",
            "_view_name": "HTMLView",
            "description": "",
            "description_tooltip": null,
            "layout": "IPY_MODEL_d4127115eedf488aa43f879d2e9f7d25",
            "placeholder": "​",
            "style": "IPY_MODEL_248b081122a4470e96cc86b14a81be88",
            "value": "pytorch_model.bin: 100%"
          }
        },
        "5bd24cf435ca43a7ac902a467d55b3b9": {
          "model_module": "@jupyter-widgets/controls",
          "model_module_version": "1.5.0",
          "model_name": "HBoxModel",
          "state": {
            "_dom_classes": [],
            "_model_module": "@jupyter-widgets/controls",
            "_model_module_version": "1.5.0",
            "_model_name": "HBoxModel",
            "_view_count": null,
            "_view_module": "@jupyter-widgets/controls",
            "_view_module_version": "1.5.0",
            "_view_name": "HBoxView",
            "box_style": "",
            "children": [
              "IPY_MODEL_1096f9e6b87c4c49805f556950c6dff5",
              "IPY_MODEL_77ce5c696c034e11b5a1545910a887ff",
              "IPY_MODEL_e2c62fcac71f450b9bd8ce94ff4ce49f"
            ],
            "layout": "IPY_MODEL_d822740e5413491182db1e7c2a385251"
          }
        },
        "5f09df28d3b94985ba532f27600cd9df": {
          "model_module": "@jupyter-widgets/controls",
          "model_module_version": "1.5.0",
          "model_name": "HTMLModel",
          "state": {
            "_dom_classes": [],
            "_model_module": "@jupyter-widgets/controls",
            "_model_module_version": "1.5.0",
            "_model_name": "HTMLModel",
            "_view_count": null,
            "_view_module": "@jupyter-widgets/controls",
            "_view_module_version": "1.5.0",
            "_view_name": "HTMLView",
            "description": "",
            "description_tooltip": null,
            "layout": "IPY_MODEL_85bda724502543d0b1046b6eb1efd0e1",
            "placeholder": "​",
            "style": "IPY_MODEL_cc0df4056d124d6dac8a39727a1fb2a8",
            "value": " 707/707 [00:00&lt;00:00, 20.1kB/s]"
          }
        },
        "5fbf683f1cb0445787a8f30f334f1423": {
          "model_module": "@jupyter-widgets/base",
          "model_module_version": "1.2.0",
          "model_name": "LayoutModel",
          "state": {
            "_model_module": "@jupyter-widgets/base",
            "_model_module_version": "1.2.0",
            "_model_name": "LayoutModel",
            "_view_count": null,
            "_view_module": "@jupyter-widgets/base",
            "_view_module_version": "1.2.0",
            "_view_name": "LayoutView",
            "align_content": null,
            "align_items": null,
            "align_self": null,
            "border": null,
            "bottom": null,
            "display": null,
            "flex": null,
            "flex_flow": null,
            "grid_area": null,
            "grid_auto_columns": null,
            "grid_auto_flow": null,
            "grid_auto_rows": null,
            "grid_column": null,
            "grid_gap": null,
            "grid_row": null,
            "grid_template_areas": null,
            "grid_template_columns": null,
            "grid_template_rows": null,
            "height": null,
            "justify_content": null,
            "justify_items": null,
            "left": null,
            "margin": null,
            "max_height": null,
            "max_width": null,
            "min_height": null,
            "min_width": null,
            "object_fit": null,
            "object_position": null,
            "order": null,
            "overflow": null,
            "overflow_x": null,
            "overflow_y": null,
            "padding": null,
            "right": null,
            "top": null,
            "visibility": null,
            "width": null
          }
        },
        "6098c596d26b46a2b5aa0d9e834ad13d": {
          "model_module": "@jupyter-widgets/controls",
          "model_module_version": "1.5.0",
          "model_name": "DescriptionStyleModel",
          "state": {
            "_model_module": "@jupyter-widgets/controls",
            "_model_module_version": "1.5.0",
            "_model_name": "DescriptionStyleModel",
            "_view_count": null,
            "_view_module": "@jupyter-widgets/base",
            "_view_module_version": "1.2.0",
            "_view_name": "StyleView",
            "description_width": ""
          }
        },
        "6b0a6c1d3ed14c49a67ac0bd7694d16a": {
          "model_module": "@jupyter-widgets/controls",
          "model_module_version": "1.5.0",
          "model_name": "ProgressStyleModel",
          "state": {
            "_model_module": "@jupyter-widgets/controls",
            "_model_module_version": "1.5.0",
            "_model_name": "ProgressStyleModel",
            "_view_count": null,
            "_view_module": "@jupyter-widgets/base",
            "_view_module_version": "1.2.0",
            "_view_name": "StyleView",
            "bar_color": null,
            "description_width": ""
          }
        },
        "7426f7ae240a4f15be5a0088b803f421": {
          "model_module": "@jupyter-widgets/controls",
          "model_module_version": "1.5.0",
          "model_name": "HBoxModel",
          "state": {
            "_dom_classes": [],
            "_model_module": "@jupyter-widgets/controls",
            "_model_module_version": "1.5.0",
            "_model_name": "HBoxModel",
            "_view_count": null,
            "_view_module": "@jupyter-widgets/controls",
            "_view_module_version": "1.5.0",
            "_view_name": "HBoxView",
            "box_style": "",
            "children": [
              "IPY_MODEL_e5656550cfef49cfb222241b426e67b9",
              "IPY_MODEL_8ac6f58252954650bf2c40b7abd255a5",
              "IPY_MODEL_5f09df28d3b94985ba532f27600cd9df"
            ],
            "layout": "IPY_MODEL_b4967bf1a36243579a52c46e726d3e40"
          }
        },
        "77ce5c696c034e11b5a1545910a887ff": {
          "model_module": "@jupyter-widgets/controls",
          "model_module_version": "1.5.0",
          "model_name": "FloatProgressModel",
          "state": {
            "_dom_classes": [],
            "_model_module": "@jupyter-widgets/controls",
            "_model_module_version": "1.5.0",
            "_model_name": "FloatProgressModel",
            "_view_count": null,
            "_view_module": "@jupyter-widgets/controls",
            "_view_module_version": "1.5.0",
            "_view_name": "ProgressView",
            "bar_style": "success",
            "description": "",
            "description_tooltip": null,
            "layout": "IPY_MODEL_efa14c363af4490f9f30b957eec30aa3",
            "max": 1920,
            "min": 0,
            "orientation": "horizontal",
            "style": "IPY_MODEL_0000a8b73657471e8f61e855e5f5b350",
            "value": 1920
          }
        },
        "7826948b8efd400092986a69cfc307bb": {
          "model_module": "@jupyter-widgets/controls",
          "model_module_version": "1.5.0",
          "model_name": "HTMLModel",
          "state": {
            "_dom_classes": [],
            "_model_module": "@jupyter-widgets/controls",
            "_model_module_version": "1.5.0",
            "_model_name": "HTMLModel",
            "_view_count": null,
            "_view_module": "@jupyter-widgets/controls",
            "_view_module_version": "1.5.0",
            "_view_name": "HTMLView",
            "description": "",
            "description_tooltip": null,
            "layout": "IPY_MODEL_3c12a3f55d1046a7a6045f5e36fbe6dd",
            "placeholder": "​",
            "style": "IPY_MODEL_6098c596d26b46a2b5aa0d9e834ad13d",
            "value": "Map: 100%"
          }
        },
        "81be698461f1478195acd072ef11fc7c": {
          "model_module": "@jupyter-widgets/controls",
          "model_module_version": "1.5.0",
          "model_name": "DescriptionStyleModel",
          "state": {
            "_model_module": "@jupyter-widgets/controls",
            "_model_module_version": "1.5.0",
            "_model_name": "DescriptionStyleModel",
            "_view_count": null,
            "_view_module": "@jupyter-widgets/base",
            "_view_module_version": "1.2.0",
            "_view_name": "StyleView",
            "description_width": ""
          }
        },
        "85bda724502543d0b1046b6eb1efd0e1": {
          "model_module": "@jupyter-widgets/base",
          "model_module_version": "1.2.0",
          "model_name": "LayoutModel",
          "state": {
            "_model_module": "@jupyter-widgets/base",
            "_model_module_version": "1.2.0",
            "_model_name": "LayoutModel",
            "_view_count": null,
            "_view_module": "@jupyter-widgets/base",
            "_view_module_version": "1.2.0",
            "_view_name": "LayoutView",
            "align_content": null,
            "align_items": null,
            "align_self": null,
            "border": null,
            "bottom": null,
            "display": null,
            "flex": null,
            "flex_flow": null,
            "grid_area": null,
            "grid_auto_columns": null,
            "grid_auto_flow": null,
            "grid_auto_rows": null,
            "grid_column": null,
            "grid_gap": null,
            "grid_row": null,
            "grid_template_areas": null,
            "grid_template_columns": null,
            "grid_template_rows": null,
            "height": null,
            "justify_content": null,
            "justify_items": null,
            "left": null,
            "margin": null,
            "max_height": null,
            "max_width": null,
            "min_height": null,
            "min_width": null,
            "object_fit": null,
            "object_position": null,
            "order": null,
            "overflow": null,
            "overflow_x": null,
            "overflow_y": null,
            "padding": null,
            "right": null,
            "top": null,
            "visibility": null,
            "width": null
          }
        },
        "8ac6f58252954650bf2c40b7abd255a5": {
          "model_module": "@jupyter-widgets/controls",
          "model_module_version": "1.5.0",
          "model_name": "FloatProgressModel",
          "state": {
            "_dom_classes": [],
            "_model_module": "@jupyter-widgets/controls",
            "_model_module_version": "1.5.0",
            "_model_name": "FloatProgressModel",
            "_view_count": null,
            "_view_module": "@jupyter-widgets/controls",
            "_view_module_version": "1.5.0",
            "_view_name": "ProgressView",
            "bar_style": "success",
            "description": "",
            "description_tooltip": null,
            "layout": "IPY_MODEL_b901acdbd98049c6b6b12d6eb7ae63a5",
            "max": 707,
            "min": 0,
            "orientation": "horizontal",
            "style": "IPY_MODEL_0e944382960940e894e487aef3670fcb",
            "value": 707
          }
        },
        "917e538f14e84f2faad8c70a212c1548": {
          "model_module": "@jupyter-widgets/controls",
          "model_module_version": "1.5.0",
          "model_name": "FloatProgressModel",
          "state": {
            "_dom_classes": [],
            "_model_module": "@jupyter-widgets/controls",
            "_model_module_version": "1.5.0",
            "_model_name": "FloatProgressModel",
            "_view_count": null,
            "_view_module": "@jupyter-widgets/controls",
            "_view_module_version": "1.5.0",
            "_view_name": "ProgressView",
            "bar_style": "success",
            "description": "",
            "description_tooltip": null,
            "layout": "IPY_MODEL_d273488671634c50a5a039723584e8e8",
            "max": 640,
            "min": 0,
            "orientation": "horizontal",
            "style": "IPY_MODEL_ff0eec5053574fefa6594db45c06d4b3",
            "value": 640
          }
        },
        "96502cc2a7cd40ab812690e6e648ade2": {
          "model_module": "@jupyter-widgets/base",
          "model_module_version": "1.2.0",
          "model_name": "LayoutModel",
          "state": {
            "_model_module": "@jupyter-widgets/base",
            "_model_module_version": "1.2.0",
            "_model_name": "LayoutModel",
            "_view_count": null,
            "_view_module": "@jupyter-widgets/base",
            "_view_module_version": "1.2.0",
            "_view_name": "LayoutView",
            "align_content": null,
            "align_items": null,
            "align_self": null,
            "border": null,
            "bottom": null,
            "display": null,
            "flex": null,
            "flex_flow": null,
            "grid_area": null,
            "grid_auto_columns": null,
            "grid_auto_flow": null,
            "grid_auto_rows": null,
            "grid_column": null,
            "grid_gap": null,
            "grid_row": null,
            "grid_template_areas": null,
            "grid_template_columns": null,
            "grid_template_rows": null,
            "height": null,
            "justify_content": null,
            "justify_items": null,
            "left": null,
            "margin": null,
            "max_height": null,
            "max_width": null,
            "min_height": null,
            "min_width": null,
            "object_fit": null,
            "object_position": null,
            "order": null,
            "overflow": null,
            "overflow_x": null,
            "overflow_y": null,
            "padding": null,
            "right": null,
            "top": null,
            "visibility": null,
            "width": null
          }
        },
        "a4b9a017214b4c31b07e1e2598410274": {
          "model_module": "@jupyter-widgets/base",
          "model_module_version": "1.2.0",
          "model_name": "LayoutModel",
          "state": {
            "_model_module": "@jupyter-widgets/base",
            "_model_module_version": "1.2.0",
            "_model_name": "LayoutModel",
            "_view_count": null,
            "_view_module": "@jupyter-widgets/base",
            "_view_module_version": "1.2.0",
            "_view_name": "LayoutView",
            "align_content": null,
            "align_items": null,
            "align_self": null,
            "border": null,
            "bottom": null,
            "display": null,
            "flex": null,
            "flex_flow": null,
            "grid_area": null,
            "grid_auto_columns": null,
            "grid_auto_flow": null,
            "grid_auto_rows": null,
            "grid_column": null,
            "grid_gap": null,
            "grid_row": null,
            "grid_template_areas": null,
            "grid_template_columns": null,
            "grid_template_rows": null,
            "height": null,
            "justify_content": null,
            "justify_items": null,
            "left": null,
            "margin": null,
            "max_height": null,
            "max_width": null,
            "min_height": null,
            "min_width": null,
            "object_fit": null,
            "object_position": null,
            "order": null,
            "overflow": null,
            "overflow_x": null,
            "overflow_y": null,
            "padding": null,
            "right": null,
            "top": null,
            "visibility": null,
            "width": null
          }
        },
        "ac82e69955b94a6f95d276a89f7c02b4": {
          "model_module": "@jupyter-widgets/controls",
          "model_module_version": "1.5.0",
          "model_name": "DescriptionStyleModel",
          "state": {
            "_model_module": "@jupyter-widgets/controls",
            "_model_module_version": "1.5.0",
            "_model_name": "DescriptionStyleModel",
            "_view_count": null,
            "_view_module": "@jupyter-widgets/base",
            "_view_module_version": "1.2.0",
            "_view_name": "StyleView",
            "description_width": ""
          }
        },
        "b4967bf1a36243579a52c46e726d3e40": {
          "model_module": "@jupyter-widgets/base",
          "model_module_version": "1.2.0",
          "model_name": "LayoutModel",
          "state": {
            "_model_module": "@jupyter-widgets/base",
            "_model_module_version": "1.2.0",
            "_model_name": "LayoutModel",
            "_view_count": null,
            "_view_module": "@jupyter-widgets/base",
            "_view_module_version": "1.2.0",
            "_view_name": "LayoutView",
            "align_content": null,
            "align_items": null,
            "align_self": null,
            "border": null,
            "bottom": null,
            "display": null,
            "flex": null,
            "flex_flow": null,
            "grid_area": null,
            "grid_auto_columns": null,
            "grid_auto_flow": null,
            "grid_auto_rows": null,
            "grid_column": null,
            "grid_gap": null,
            "grid_row": null,
            "grid_template_areas": null,
            "grid_template_columns": null,
            "grid_template_rows": null,
            "height": null,
            "justify_content": null,
            "justify_items": null,
            "left": null,
            "margin": null,
            "max_height": null,
            "max_width": null,
            "min_height": null,
            "min_width": null,
            "object_fit": null,
            "object_position": null,
            "order": null,
            "overflow": null,
            "overflow_x": null,
            "overflow_y": null,
            "padding": null,
            "right": null,
            "top": null,
            "visibility": null,
            "width": null
          }
        },
        "b901acdbd98049c6b6b12d6eb7ae63a5": {
          "model_module": "@jupyter-widgets/base",
          "model_module_version": "1.2.0",
          "model_name": "LayoutModel",
          "state": {
            "_model_module": "@jupyter-widgets/base",
            "_model_module_version": "1.2.0",
            "_model_name": "LayoutModel",
            "_view_count": null,
            "_view_module": "@jupyter-widgets/base",
            "_view_module_version": "1.2.0",
            "_view_name": "LayoutView",
            "align_content": null,
            "align_items": null,
            "align_self": null,
            "border": null,
            "bottom": null,
            "display": null,
            "flex": null,
            "flex_flow": null,
            "grid_area": null,
            "grid_auto_columns": null,
            "grid_auto_flow": null,
            "grid_auto_rows": null,
            "grid_column": null,
            "grid_gap": null,
            "grid_row": null,
            "grid_template_areas": null,
            "grid_template_columns": null,
            "grid_template_rows": null,
            "height": null,
            "justify_content": null,
            "justify_items": null,
            "left": null,
            "margin": null,
            "max_height": null,
            "max_width": null,
            "min_height": null,
            "min_width": null,
            "object_fit": null,
            "object_position": null,
            "order": null,
            "overflow": null,
            "overflow_x": null,
            "overflow_y": null,
            "padding": null,
            "right": null,
            "top": null,
            "visibility": null,
            "width": null
          }
        },
        "bd191362f6cc4d649b8559fd4aef43a9": {
          "model_module": "@jupyter-widgets/controls",
          "model_module_version": "1.5.0",
          "model_name": "DescriptionStyleModel",
          "state": {
            "_model_module": "@jupyter-widgets/controls",
            "_model_module_version": "1.5.0",
            "_model_name": "DescriptionStyleModel",
            "_view_count": null,
            "_view_module": "@jupyter-widgets/base",
            "_view_module_version": "1.2.0",
            "_view_name": "StyleView",
            "description_width": ""
          }
        },
        "c0a4b251dd7e44b097e4f79eaa07abf0": {
          "model_module": "@jupyter-widgets/controls",
          "model_module_version": "1.5.0",
          "model_name": "DescriptionStyleModel",
          "state": {
            "_model_module": "@jupyter-widgets/controls",
            "_model_module_version": "1.5.0",
            "_model_name": "DescriptionStyleModel",
            "_view_count": null,
            "_view_module": "@jupyter-widgets/base",
            "_view_module_version": "1.2.0",
            "_view_name": "StyleView",
            "description_width": ""
          }
        },
        "c14a752987ab40b49d96c9f932335c22": {
          "model_module": "@jupyter-widgets/base",
          "model_module_version": "1.2.0",
          "model_name": "LayoutModel",
          "state": {
            "_model_module": "@jupyter-widgets/base",
            "_model_module_version": "1.2.0",
            "_model_name": "LayoutModel",
            "_view_count": null,
            "_view_module": "@jupyter-widgets/base",
            "_view_module_version": "1.2.0",
            "_view_name": "LayoutView",
            "align_content": null,
            "align_items": null,
            "align_self": null,
            "border": null,
            "bottom": null,
            "display": null,
            "flex": null,
            "flex_flow": null,
            "grid_area": null,
            "grid_auto_columns": null,
            "grid_auto_flow": null,
            "grid_auto_rows": null,
            "grid_column": null,
            "grid_gap": null,
            "grid_row": null,
            "grid_template_areas": null,
            "grid_template_columns": null,
            "grid_template_rows": null,
            "height": null,
            "justify_content": null,
            "justify_items": null,
            "left": null,
            "margin": null,
            "max_height": null,
            "max_width": null,
            "min_height": null,
            "min_width": null,
            "object_fit": null,
            "object_position": null,
            "order": null,
            "overflow": null,
            "overflow_x": null,
            "overflow_y": null,
            "padding": null,
            "right": null,
            "top": null,
            "visibility": null,
            "width": null
          }
        },
        "cc0df4056d124d6dac8a39727a1fb2a8": {
          "model_module": "@jupyter-widgets/controls",
          "model_module_version": "1.5.0",
          "model_name": "DescriptionStyleModel",
          "state": {
            "_model_module": "@jupyter-widgets/controls",
            "_model_module_version": "1.5.0",
            "_model_name": "DescriptionStyleModel",
            "_view_count": null,
            "_view_module": "@jupyter-widgets/base",
            "_view_module_version": "1.2.0",
            "_view_name": "StyleView",
            "description_width": ""
          }
        },
        "d12fa199ffa74c5aa4153eade080b045": {
          "model_module": "@jupyter-widgets/controls",
          "model_module_version": "1.5.0",
          "model_name": "DescriptionStyleModel",
          "state": {
            "_model_module": "@jupyter-widgets/controls",
            "_model_module_version": "1.5.0",
            "_model_name": "DescriptionStyleModel",
            "_view_count": null,
            "_view_module": "@jupyter-widgets/base",
            "_view_module_version": "1.2.0",
            "_view_name": "StyleView",
            "description_width": ""
          }
        },
        "d273488671634c50a5a039723584e8e8": {
          "model_module": "@jupyter-widgets/base",
          "model_module_version": "1.2.0",
          "model_name": "LayoutModel",
          "state": {
            "_model_module": "@jupyter-widgets/base",
            "_model_module_version": "1.2.0",
            "_model_name": "LayoutModel",
            "_view_count": null,
            "_view_module": "@jupyter-widgets/base",
            "_view_module_version": "1.2.0",
            "_view_name": "LayoutView",
            "align_content": null,
            "align_items": null,
            "align_self": null,
            "border": null,
            "bottom": null,
            "display": null,
            "flex": null,
            "flex_flow": null,
            "grid_area": null,
            "grid_auto_columns": null,
            "grid_auto_flow": null,
            "grid_auto_rows": null,
            "grid_column": null,
            "grid_gap": null,
            "grid_row": null,
            "grid_template_areas": null,
            "grid_template_columns": null,
            "grid_template_rows": null,
            "height": null,
            "justify_content": null,
            "justify_items": null,
            "left": null,
            "margin": null,
            "max_height": null,
            "max_width": null,
            "min_height": null,
            "min_width": null,
            "object_fit": null,
            "object_position": null,
            "order": null,
            "overflow": null,
            "overflow_x": null,
            "overflow_y": null,
            "padding": null,
            "right": null,
            "top": null,
            "visibility": null,
            "width": null
          }
        },
        "d3c3f0f4ef7646e3adef0766f30d66df": {
          "model_module": "@jupyter-widgets/controls",
          "model_module_version": "1.5.0",
          "model_name": "DescriptionStyleModel",
          "state": {
            "_model_module": "@jupyter-widgets/controls",
            "_model_module_version": "1.5.0",
            "_model_name": "DescriptionStyleModel",
            "_view_count": null,
            "_view_module": "@jupyter-widgets/base",
            "_view_module_version": "1.2.0",
            "_view_name": "StyleView",
            "description_width": ""
          }
        },
        "d4127115eedf488aa43f879d2e9f7d25": {
          "model_module": "@jupyter-widgets/base",
          "model_module_version": "1.2.0",
          "model_name": "LayoutModel",
          "state": {
            "_model_module": "@jupyter-widgets/base",
            "_model_module_version": "1.2.0",
            "_model_name": "LayoutModel",
            "_view_count": null,
            "_view_module": "@jupyter-widgets/base",
            "_view_module_version": "1.2.0",
            "_view_name": "LayoutView",
            "align_content": null,
            "align_items": null,
            "align_self": null,
            "border": null,
            "bottom": null,
            "display": null,
            "flex": null,
            "flex_flow": null,
            "grid_area": null,
            "grid_auto_columns": null,
            "grid_auto_flow": null,
            "grid_auto_rows": null,
            "grid_column": null,
            "grid_gap": null,
            "grid_row": null,
            "grid_template_areas": null,
            "grid_template_columns": null,
            "grid_template_rows": null,
            "height": null,
            "justify_content": null,
            "justify_items": null,
            "left": null,
            "margin": null,
            "max_height": null,
            "max_width": null,
            "min_height": null,
            "min_width": null,
            "object_fit": null,
            "object_position": null,
            "order": null,
            "overflow": null,
            "overflow_x": null,
            "overflow_y": null,
            "padding": null,
            "right": null,
            "top": null,
            "visibility": null,
            "width": null
          }
        },
        "d4ad6f9425044cce920518c234cbc400": {
          "model_module": "@jupyter-widgets/controls",
          "model_module_version": "1.5.0",
          "model_name": "DescriptionStyleModel",
          "state": {
            "_model_module": "@jupyter-widgets/controls",
            "_model_module_version": "1.5.0",
            "_model_name": "DescriptionStyleModel",
            "_view_count": null,
            "_view_module": "@jupyter-widgets/base",
            "_view_module_version": "1.2.0",
            "_view_name": "StyleView",
            "description_width": ""
          }
        },
        "d6da777d357241adb363febea05c9fd7": {
          "model_module": "@jupyter-widgets/controls",
          "model_module_version": "1.5.0",
          "model_name": "HTMLModel",
          "state": {
            "_dom_classes": [],
            "_model_module": "@jupyter-widgets/controls",
            "_model_module_version": "1.5.0",
            "_model_name": "HTMLModel",
            "_view_count": null,
            "_view_module": "@jupyter-widgets/controls",
            "_view_module_version": "1.5.0",
            "_view_name": "HTMLView",
            "description": "",
            "description_tooltip": null,
            "layout": "IPY_MODEL_a4b9a017214b4c31b07e1e2598410274",
            "placeholder": "​",
            "style": "IPY_MODEL_ac82e69955b94a6f95d276a89f7c02b4",
            "value": " 232k/232k [00:00&lt;00:00, 2.67MB/s]"
          }
        },
        "d822740e5413491182db1e7c2a385251": {
          "model_module": "@jupyter-widgets/base",
          "model_module_version": "1.2.0",
          "model_name": "LayoutModel",
          "state": {
            "_model_module": "@jupyter-widgets/base",
            "_model_module_version": "1.2.0",
            "_model_name": "LayoutModel",
            "_view_count": null,
            "_view_module": "@jupyter-widgets/base",
            "_view_module_version": "1.2.0",
            "_view_name": "LayoutView",
            "align_content": null,
            "align_items": null,
            "align_self": null,
            "border": null,
            "bottom": null,
            "display": null,
            "flex": null,
            "flex_flow": null,
            "grid_area": null,
            "grid_auto_columns": null,
            "grid_auto_flow": null,
            "grid_auto_rows": null,
            "grid_column": null,
            "grid_gap": null,
            "grid_row": null,
            "grid_template_areas": null,
            "grid_template_columns": null,
            "grid_template_rows": null,
            "height": null,
            "justify_content": null,
            "justify_items": null,
            "left": null,
            "margin": null,
            "max_height": null,
            "max_width": null,
            "min_height": null,
            "min_width": null,
            "object_fit": null,
            "object_position": null,
            "order": null,
            "overflow": null,
            "overflow_x": null,
            "overflow_y": null,
            "padding": null,
            "right": null,
            "top": null,
            "visibility": null,
            "width": null
          }
        },
        "dcbcf8f9911c4ff488661dc2cdad3bbc": {
          "model_module": "@jupyter-widgets/base",
          "model_module_version": "1.2.0",
          "model_name": "LayoutModel",
          "state": {
            "_model_module": "@jupyter-widgets/base",
            "_model_module_version": "1.2.0",
            "_model_name": "LayoutModel",
            "_view_count": null,
            "_view_module": "@jupyter-widgets/base",
            "_view_module_version": "1.2.0",
            "_view_name": "LayoutView",
            "align_content": null,
            "align_items": null,
            "align_self": null,
            "border": null,
            "bottom": null,
            "display": null,
            "flex": null,
            "flex_flow": null,
            "grid_area": null,
            "grid_auto_columns": null,
            "grid_auto_flow": null,
            "grid_auto_rows": null,
            "grid_column": null,
            "grid_gap": null,
            "grid_row": null,
            "grid_template_areas": null,
            "grid_template_columns": null,
            "grid_template_rows": null,
            "height": null,
            "justify_content": null,
            "justify_items": null,
            "left": null,
            "margin": null,
            "max_height": null,
            "max_width": null,
            "min_height": null,
            "min_width": null,
            "object_fit": null,
            "object_position": null,
            "order": null,
            "overflow": null,
            "overflow_x": null,
            "overflow_y": null,
            "padding": null,
            "right": null,
            "top": null,
            "visibility": null,
            "width": null
          }
        },
        "e2c62fcac71f450b9bd8ce94ff4ce49f": {
          "model_module": "@jupyter-widgets/controls",
          "model_module_version": "1.5.0",
          "model_name": "HTMLModel",
          "state": {
            "_dom_classes": [],
            "_model_module": "@jupyter-widgets/controls",
            "_model_module_version": "1.5.0",
            "_model_name": "HTMLModel",
            "_view_count": null,
            "_view_module": "@jupyter-widgets/controls",
            "_view_module_version": "1.5.0",
            "_view_name": "HTMLView",
            "description": "",
            "description_tooltip": null,
            "layout": "IPY_MODEL_e7c6f0b660a44e428464ad195f158825",
            "placeholder": "​",
            "style": "IPY_MODEL_81be698461f1478195acd072ef11fc7c",
            "value": " 1920/1920 [1:35:09&lt;00:00,  1.99s/ examples]"
          }
        },
        "e5656550cfef49cfb222241b426e67b9": {
          "model_module": "@jupyter-widgets/controls",
          "model_module_version": "1.5.0",
          "model_name": "HTMLModel",
          "state": {
            "_dom_classes": [],
            "_model_module": "@jupyter-widgets/controls",
            "_model_module_version": "1.5.0",
            "_model_name": "HTMLModel",
            "_view_count": null,
            "_view_module": "@jupyter-widgets/controls",
            "_view_module_version": "1.5.0",
            "_view_name": "HTMLView",
            "description": "",
            "description_tooltip": null,
            "layout": "IPY_MODEL_96502cc2a7cd40ab812690e6e648ade2",
            "placeholder": "​",
            "style": "IPY_MODEL_d12fa199ffa74c5aa4153eade080b045",
            "value": "config.json: 100%"
          }
        },
        "e7c6f0b660a44e428464ad195f158825": {
          "model_module": "@jupyter-widgets/base",
          "model_module_version": "1.2.0",
          "model_name": "LayoutModel",
          "state": {
            "_model_module": "@jupyter-widgets/base",
            "_model_module_version": "1.2.0",
            "_model_name": "LayoutModel",
            "_view_count": null,
            "_view_module": "@jupyter-widgets/base",
            "_view_module_version": "1.2.0",
            "_view_name": "LayoutView",
            "align_content": null,
            "align_items": null,
            "align_self": null,
            "border": null,
            "bottom": null,
            "display": null,
            "flex": null,
            "flex_flow": null,
            "grid_area": null,
            "grid_auto_columns": null,
            "grid_auto_flow": null,
            "grid_auto_rows": null,
            "grid_column": null,
            "grid_gap": null,
            "grid_row": null,
            "grid_template_areas": null,
            "grid_template_columns": null,
            "grid_template_rows": null,
            "height": null,
            "justify_content": null,
            "justify_items": null,
            "left": null,
            "margin": null,
            "max_height": null,
            "max_width": null,
            "min_height": null,
            "min_width": null,
            "object_fit": null,
            "object_position": null,
            "order": null,
            "overflow": null,
            "overflow_x": null,
            "overflow_y": null,
            "padding": null,
            "right": null,
            "top": null,
            "visibility": null,
            "width": null
          }
        },
        "e9a780d22c5346fdbd1a3a99729e7baa": {
          "model_module": "@jupyter-widgets/controls",
          "model_module_version": "1.5.0",
          "model_name": "HBoxModel",
          "state": {
            "_dom_classes": [],
            "_model_module": "@jupyter-widgets/controls",
            "_model_module_version": "1.5.0",
            "_model_name": "HBoxModel",
            "_view_count": null,
            "_view_module": "@jupyter-widgets/controls",
            "_view_module_version": "1.5.0",
            "_view_name": "HBoxView",
            "box_style": "",
            "children": [
              "IPY_MODEL_59275a4acaa540d9b8254638d2a9ca99",
              "IPY_MODEL_0523fcb0165e477cbe44d6ca4d4d2b36",
              "IPY_MODEL_d6da777d357241adb363febea05c9fd7"
            ],
            "layout": "IPY_MODEL_5fbf683f1cb0445787a8f30f334f1423"
          }
        },
        "ef81e57ed79a4b689acf49b9751bede1": {
          "model_module": "@jupyter-widgets/base",
          "model_module_version": "1.2.0",
          "model_name": "LayoutModel",
          "state": {
            "_model_module": "@jupyter-widgets/base",
            "_model_module_version": "1.2.0",
            "_model_name": "LayoutModel",
            "_view_count": null,
            "_view_module": "@jupyter-widgets/base",
            "_view_module_version": "1.2.0",
            "_view_name": "LayoutView",
            "align_content": null,
            "align_items": null,
            "align_self": null,
            "border": null,
            "bottom": null,
            "display": null,
            "flex": null,
            "flex_flow": null,
            "grid_area": null,
            "grid_auto_columns": null,
            "grid_auto_flow": null,
            "grid_auto_rows": null,
            "grid_column": null,
            "grid_gap": null,
            "grid_row": null,
            "grid_template_areas": null,
            "grid_template_columns": null,
            "grid_template_rows": null,
            "height": null,
            "justify_content": null,
            "justify_items": null,
            "left": null,
            "margin": null,
            "max_height": null,
            "max_width": null,
            "min_height": null,
            "min_width": null,
            "object_fit": null,
            "object_position": null,
            "order": null,
            "overflow": null,
            "overflow_x": null,
            "overflow_y": null,
            "padding": null,
            "right": null,
            "top": null,
            "visibility": null,
            "width": null
          }
        },
        "efa14c363af4490f9f30b957eec30aa3": {
          "model_module": "@jupyter-widgets/base",
          "model_module_version": "1.2.0",
          "model_name": "LayoutModel",
          "state": {
            "_model_module": "@jupyter-widgets/base",
            "_model_module_version": "1.2.0",
            "_model_name": "LayoutModel",
            "_view_count": null,
            "_view_module": "@jupyter-widgets/base",
            "_view_module_version": "1.2.0",
            "_view_name": "LayoutView",
            "align_content": null,
            "align_items": null,
            "align_self": null,
            "border": null,
            "bottom": null,
            "display": null,
            "flex": null,
            "flex_flow": null,
            "grid_area": null,
            "grid_auto_columns": null,
            "grid_auto_flow": null,
            "grid_auto_rows": null,
            "grid_column": null,
            "grid_gap": null,
            "grid_row": null,
            "grid_template_areas": null,
            "grid_template_columns": null,
            "grid_template_rows": null,
            "height": null,
            "justify_content": null,
            "justify_items": null,
            "left": null,
            "margin": null,
            "max_height": null,
            "max_width": null,
            "min_height": null,
            "min_width": null,
            "object_fit": null,
            "object_position": null,
            "order": null,
            "overflow": null,
            "overflow_x": null,
            "overflow_y": null,
            "padding": null,
            "right": null,
            "top": null,
            "visibility": null,
            "width": null
          }
        },
        "f221ed827843452097f28eb026ae8d9d": {
          "model_module": "@jupyter-widgets/controls",
          "model_module_version": "1.5.0",
          "model_name": "HTMLModel",
          "state": {
            "_dom_classes": [],
            "_model_module": "@jupyter-widgets/controls",
            "_model_module_version": "1.5.0",
            "_model_name": "HTMLModel",
            "_view_count": null,
            "_view_module": "@jupyter-widgets/controls",
            "_view_module_version": "1.5.0",
            "_view_name": "HTMLView",
            "description": "",
            "description_tooltip": null,
            "layout": "IPY_MODEL_ef81e57ed79a4b689acf49b9751bede1",
            "placeholder": "​",
            "style": "IPY_MODEL_c0a4b251dd7e44b097e4f79eaa07abf0",
            "value": " 802M/802M [00:09&lt;00:00, 83.1MB/s]"
          }
        },
        "f65e67d17ac243b297079305d3d71d90": {
          "model_module": "@jupyter-widgets/base",
          "model_module_version": "1.2.0",
          "model_name": "LayoutModel",
          "state": {
            "_model_module": "@jupyter-widgets/base",
            "_model_module_version": "1.2.0",
            "_model_name": "LayoutModel",
            "_view_count": null,
            "_view_module": "@jupyter-widgets/base",
            "_view_module_version": "1.2.0",
            "_view_name": "LayoutView",
            "align_content": null,
            "align_items": null,
            "align_self": null,
            "border": null,
            "bottom": null,
            "display": null,
            "flex": null,
            "flex_flow": null,
            "grid_area": null,
            "grid_auto_columns": null,
            "grid_auto_flow": null,
            "grid_auto_rows": null,
            "grid_column": null,
            "grid_gap": null,
            "grid_row": null,
            "grid_template_areas": null,
            "grid_template_columns": null,
            "grid_template_rows": null,
            "height": null,
            "justify_content": null,
            "justify_items": null,
            "left": null,
            "margin": null,
            "max_height": null,
            "max_width": null,
            "min_height": null,
            "min_width": null,
            "object_fit": null,
            "object_position": null,
            "order": null,
            "overflow": null,
            "overflow_x": null,
            "overflow_y": null,
            "padding": null,
            "right": null,
            "top": null,
            "visibility": null,
            "width": null
          }
        },
        "f68458f772254fba8cb19259b5721e6c": {
          "model_module": "@jupyter-widgets/controls",
          "model_module_version": "1.5.0",
          "model_name": "ProgressStyleModel",
          "state": {
            "_model_module": "@jupyter-widgets/controls",
            "_model_module_version": "1.5.0",
            "_model_name": "ProgressStyleModel",
            "_view_count": null,
            "_view_module": "@jupyter-widgets/base",
            "_view_module_version": "1.2.0",
            "_view_name": "StyleView",
            "bar_color": null,
            "description_width": ""
          }
        },
        "fc77fdd098024805bea847dcc83fed4b": {
          "model_module": "@jupyter-widgets/base",
          "model_module_version": "1.2.0",
          "model_name": "LayoutModel",
          "state": {
            "_model_module": "@jupyter-widgets/base",
            "_model_module_version": "1.2.0",
            "_model_name": "LayoutModel",
            "_view_count": null,
            "_view_module": "@jupyter-widgets/base",
            "_view_module_version": "1.2.0",
            "_view_name": "LayoutView",
            "align_content": null,
            "align_items": null,
            "align_self": null,
            "border": null,
            "bottom": null,
            "display": null,
            "flex": null,
            "flex_flow": null,
            "grid_area": null,
            "grid_auto_columns": null,
            "grid_auto_flow": null,
            "grid_auto_rows": null,
            "grid_column": null,
            "grid_gap": null,
            "grid_row": null,
            "grid_template_areas": null,
            "grid_template_columns": null,
            "grid_template_rows": null,
            "height": null,
            "justify_content": null,
            "justify_items": null,
            "left": null,
            "margin": null,
            "max_height": null,
            "max_width": null,
            "min_height": null,
            "min_width": null,
            "object_fit": null,
            "object_position": null,
            "order": null,
            "overflow": null,
            "overflow_x": null,
            "overflow_y": null,
            "padding": null,
            "right": null,
            "top": null,
            "visibility": null,
            "width": null
          }
        },
        "ff0eec5053574fefa6594db45c06d4b3": {
          "model_module": "@jupyter-widgets/controls",
          "model_module_version": "1.5.0",
          "model_name": "ProgressStyleModel",
          "state": {
            "_model_module": "@jupyter-widgets/controls",
            "_model_module_version": "1.5.0",
            "_model_name": "ProgressStyleModel",
            "_view_count": null,
            "_view_module": "@jupyter-widgets/base",
            "_view_module_version": "1.2.0",
            "_view_name": "StyleView",
            "bar_color": null,
            "description_width": ""
          }
        }
      }
    }
  },
  "nbformat": 4,
  "nbformat_minor": 0
}
